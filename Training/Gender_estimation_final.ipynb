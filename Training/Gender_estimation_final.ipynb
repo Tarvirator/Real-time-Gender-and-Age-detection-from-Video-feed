{
  "cells": [
    {
      "cell_type": "code",
      "execution_count": null,
      "metadata": {
        "colab": {
          "base_uri": "https://localhost:8080/"
        },
        "id": "yRGrIyEExim0",
        "outputId": "035ce3ee-e322-410a-b8fa-c5cb695574a3"
      },
      "outputs": [
        {
          "output_type": "stream",
          "name": "stdout",
          "text": [
            "Mounted at /content/drive\n"
          ]
        }
      ],
      "source": [
        "from google.colab import drive\n",
        "drive.mount('/content/drive')"
      ]
    },
    {
      "cell_type": "code",
      "execution_count": null,
      "metadata": {
        "id": "Dbtw5-dMuBA8"
      },
      "outputs": [],
      "source": [
        "\n",
        "# # Testing to ensure GPU is being utilized.\n",
        "\n",
        "device_name = tf.test.gpu_device_name()\n",
        "if device_name != '/device:GPU:0':\n",
        "    raise SystemError('GPU device not found')\n",
        "print('Found GPU at: {}'.format(device_name))"
      ]
    },
    {
      "cell_type": "markdown",
      "source": [
        "# Import necessary libraries"
      ],
      "metadata": {
        "id": "wki8IZriMzBc"
      }
    },
    {
      "cell_type": "code",
      "execution_count": null,
      "metadata": {
        "id": "xKQZxg44xL-6"
      },
      "outputs": [],
      "source": [
        "import pandas as pd\n",
        "import numpy as np\n",
        "\n",
        "import os\n",
        "from zipfile import ZipFile\n",
        "\n",
        "from sklearn.model_selection import train_test_split\n",
        "from sklearn.utils import shuffle\n",
        "\n",
        "\n",
        "import tensorflow as tf\n",
        "import keras\n",
        "from tensorflow.keras.models import Sequential\n",
        "from tensorflow.keras.layers import Dense\n",
        "from tensorflow.keras.layers import Conv2D, AveragePooling2D, GlobalAveragePooling2D, Dropout, GlobalMaxPooling2D, MaxPooling2D ,Flatten,BatchNormalization, Activation\n",
        "from tensorflow.keras import utils\n",
        "from tensorflow.keras.callbacks import TensorBoard, ModelCheckpoint\n",
        "\n",
        "\n",
        "np.random.seed(42)\n",
        "tf.random.set_seed(42)"
      ]
    },
    {
      "cell_type": "markdown",
      "source": [
        "# Read the data"
      ],
      "metadata": {
        "id": "XMFHrEhDM5yy"
      }
    },
    {
      "cell_type": "code",
      "execution_count": null,
      "metadata": {
        "colab": {
          "base_uri": "https://localhost:8080/"
        },
        "id": "GmeQlDAwyOot",
        "outputId": "9f647e8c-b4bc-4578-b252-c28bad49d91d"
      },
      "outputs": [
        {
          "output_type": "stream",
          "name": "stdout",
          "text": [
            "unzip done\n"
          ]
        }
      ],
      "source": [
        "zippath=\"/content/drive/MyDrive/Gender_prediction/Dataset/Final_folder_gender.zip\"\n",
        "\n",
        "with ZipFile(zippath,\"r\") as data:\n",
        "  data.extractall()\n",
        "print(\"unzip done\")"
      ]
    },
    {
      "cell_type": "code",
      "execution_count": null,
      "metadata": {
        "colab": {
          "base_uri": "https://localhost:8080/",
          "height": 224
        },
        "id": "ZP7imJz4RunM",
        "outputId": "e93ecbe0-b1e8-4a4d-ce17-6eeff5b17f1e"
      },
      "outputs": [
        {
          "output_type": "stream",
          "name": "stdout",
          "text": [
            "(77114, 3)\n"
          ]
        },
        {
          "output_type": "execute_result",
          "data": {
            "text/plain": [
              "                                           file gender  gender_class\n",
              "0  /content/Final_folder_gender/Women/68037.jpg      F             1\n",
              "1    /content/Final_folder_gender/Men/43544.jpg      M             0\n",
              "2  /content/Final_folder_gender/Women/10312.jpg      F             1\n",
              "3    /content/Final_folder_gender/Men/51653.jpg      M             0\n",
              "4    /content/Final_folder_gender/Men/27572.jpg      M             0"
            ],
            "text/html": [
              "\n",
              "  <div id=\"df-15879697-02bc-4d70-8bcf-be4f0c45744b\">\n",
              "    <div class=\"colab-df-container\">\n",
              "      <div>\n",
              "<style scoped>\n",
              "    .dataframe tbody tr th:only-of-type {\n",
              "        vertical-align: middle;\n",
              "    }\n",
              "\n",
              "    .dataframe tbody tr th {\n",
              "        vertical-align: top;\n",
              "    }\n",
              "\n",
              "    .dataframe thead th {\n",
              "        text-align: right;\n",
              "    }\n",
              "</style>\n",
              "<table border=\"1\" class=\"dataframe\">\n",
              "  <thead>\n",
              "    <tr style=\"text-align: right;\">\n",
              "      <th></th>\n",
              "      <th>file</th>\n",
              "      <th>gender</th>\n",
              "      <th>gender_class</th>\n",
              "    </tr>\n",
              "  </thead>\n",
              "  <tbody>\n",
              "    <tr>\n",
              "      <th>0</th>\n",
              "      <td>/content/Final_folder_gender/Women/68037.jpg</td>\n",
              "      <td>F</td>\n",
              "      <td>1</td>\n",
              "    </tr>\n",
              "    <tr>\n",
              "      <th>1</th>\n",
              "      <td>/content/Final_folder_gender/Men/43544.jpg</td>\n",
              "      <td>M</td>\n",
              "      <td>0</td>\n",
              "    </tr>\n",
              "    <tr>\n",
              "      <th>2</th>\n",
              "      <td>/content/Final_folder_gender/Women/10312.jpg</td>\n",
              "      <td>F</td>\n",
              "      <td>1</td>\n",
              "    </tr>\n",
              "    <tr>\n",
              "      <th>3</th>\n",
              "      <td>/content/Final_folder_gender/Men/51653.jpg</td>\n",
              "      <td>M</td>\n",
              "      <td>0</td>\n",
              "    </tr>\n",
              "    <tr>\n",
              "      <th>4</th>\n",
              "      <td>/content/Final_folder_gender/Men/27572.jpg</td>\n",
              "      <td>M</td>\n",
              "      <td>0</td>\n",
              "    </tr>\n",
              "  </tbody>\n",
              "</table>\n",
              "</div>\n",
              "      <button class=\"colab-df-convert\" onclick=\"convertToInteractive('df-15879697-02bc-4d70-8bcf-be4f0c45744b')\"\n",
              "              title=\"Convert this dataframe to an interactive table.\"\n",
              "              style=\"display:none;\">\n",
              "        \n",
              "  <svg xmlns=\"http://www.w3.org/2000/svg\" height=\"24px\"viewBox=\"0 0 24 24\"\n",
              "       width=\"24px\">\n",
              "    <path d=\"M0 0h24v24H0V0z\" fill=\"none\"/>\n",
              "    <path d=\"M18.56 5.44l.94 2.06.94-2.06 2.06-.94-2.06-.94-.94-2.06-.94 2.06-2.06.94zm-11 1L8.5 8.5l.94-2.06 2.06-.94-2.06-.94L8.5 2.5l-.94 2.06-2.06.94zm10 10l.94 2.06.94-2.06 2.06-.94-2.06-.94-.94-2.06-.94 2.06-2.06.94z\"/><path d=\"M17.41 7.96l-1.37-1.37c-.4-.4-.92-.59-1.43-.59-.52 0-1.04.2-1.43.59L10.3 9.45l-7.72 7.72c-.78.78-.78 2.05 0 2.83L4 21.41c.39.39.9.59 1.41.59.51 0 1.02-.2 1.41-.59l7.78-7.78 2.81-2.81c.8-.78.8-2.07 0-2.86zM5.41 20L4 18.59l7.72-7.72 1.47 1.35L5.41 20z\"/>\n",
              "  </svg>\n",
              "      </button>\n",
              "      \n",
              "  <style>\n",
              "    .colab-df-container {\n",
              "      display:flex;\n",
              "      flex-wrap:wrap;\n",
              "      gap: 12px;\n",
              "    }\n",
              "\n",
              "    .colab-df-convert {\n",
              "      background-color: #E8F0FE;\n",
              "      border: none;\n",
              "      border-radius: 50%;\n",
              "      cursor: pointer;\n",
              "      display: none;\n",
              "      fill: #1967D2;\n",
              "      height: 32px;\n",
              "      padding: 0 0 0 0;\n",
              "      width: 32px;\n",
              "    }\n",
              "\n",
              "    .colab-df-convert:hover {\n",
              "      background-color: #E2EBFA;\n",
              "      box-shadow: 0px 1px 2px rgba(60, 64, 67, 0.3), 0px 1px 3px 1px rgba(60, 64, 67, 0.15);\n",
              "      fill: #174EA6;\n",
              "    }\n",
              "\n",
              "    [theme=dark] .colab-df-convert {\n",
              "      background-color: #3B4455;\n",
              "      fill: #D2E3FC;\n",
              "    }\n",
              "\n",
              "    [theme=dark] .colab-df-convert:hover {\n",
              "      background-color: #434B5C;\n",
              "      box-shadow: 0px 1px 3px 1px rgba(0, 0, 0, 0.15);\n",
              "      filter: drop-shadow(0px 1px 2px rgba(0, 0, 0, 0.3));\n",
              "      fill: #FFFFFF;\n",
              "    }\n",
              "  </style>\n",
              "\n",
              "      <script>\n",
              "        const buttonEl =\n",
              "          document.querySelector('#df-15879697-02bc-4d70-8bcf-be4f0c45744b button.colab-df-convert');\n",
              "        buttonEl.style.display =\n",
              "          google.colab.kernel.accessAllowed ? 'block' : 'none';\n",
              "\n",
              "        async function convertToInteractive(key) {\n",
              "          const element = document.querySelector('#df-15879697-02bc-4d70-8bcf-be4f0c45744b');\n",
              "          const dataTable =\n",
              "            await google.colab.kernel.invokeFunction('convertToInteractive',\n",
              "                                                     [key], {});\n",
              "          if (!dataTable) return;\n",
              "\n",
              "          const docLinkHtml = 'Like what you see? Visit the ' +\n",
              "            '<a target=\"_blank\" href=https://colab.research.google.com/notebooks/data_table.ipynb>data table notebook</a>'\n",
              "            + ' to learn more about interactive tables.';\n",
              "          element.innerHTML = '';\n",
              "          dataTable['output_type'] = 'display_data';\n",
              "          await google.colab.output.renderOutput(dataTable, element);\n",
              "          const docLink = document.createElement('div');\n",
              "          docLink.innerHTML = docLinkHtml;\n",
              "          element.appendChild(docLink);\n",
              "        }\n",
              "      </script>\n",
              "    </div>\n",
              "  </div>\n",
              "  "
            ]
          },
          "metadata": {},
          "execution_count": 5
        }
      ],
      "source": [
        "df_aug_trainset=pd.read_csv(\"/content/drive/MyDrive/Gender_prediction/csv/images_filenames_labels_train_gender.csv\")\n",
        "print(df_aug_trainset.shape)\n",
        "df_aug_trainset.head()"
      ]
    },
    {
      "cell_type": "code",
      "execution_count": null,
      "metadata": {
        "colab": {
          "base_uri": "https://localhost:8080/",
          "height": 224
        },
        "id": "xDCCmPTNRuj0",
        "outputId": "a9cbefb7-9755-43a3-e38f-1cbad91ee207"
      },
      "outputs": [
        {
          "output_type": "stream",
          "name": "stdout",
          "text": [
            "(33050, 3)\n"
          ]
        },
        {
          "output_type": "execute_result",
          "data": {
            "text/plain": [
              "                                                file gender  gender_class\n",
              "0  /content/Final_folder_gender/Women/2_0_2_20161...      F             1\n",
              "1       /content/Final_folder_gender/Women/59917.jpg      F             1\n",
              "2  /content/Final_folder_gender/Women/3_1_4_20161...      F             1\n",
              "3       /content/Final_folder_gender/Women/84964.jpg      F             1\n",
              "4          /content/Final_folder_gender/Men/6261.jpg      M             0"
            ],
            "text/html": [
              "\n",
              "  <div id=\"df-f3984adb-f33a-420e-a0f6-64481899738f\">\n",
              "    <div class=\"colab-df-container\">\n",
              "      <div>\n",
              "<style scoped>\n",
              "    .dataframe tbody tr th:only-of-type {\n",
              "        vertical-align: middle;\n",
              "    }\n",
              "\n",
              "    .dataframe tbody tr th {\n",
              "        vertical-align: top;\n",
              "    }\n",
              "\n",
              "    .dataframe thead th {\n",
              "        text-align: right;\n",
              "    }\n",
              "</style>\n",
              "<table border=\"1\" class=\"dataframe\">\n",
              "  <thead>\n",
              "    <tr style=\"text-align: right;\">\n",
              "      <th></th>\n",
              "      <th>file</th>\n",
              "      <th>gender</th>\n",
              "      <th>gender_class</th>\n",
              "    </tr>\n",
              "  </thead>\n",
              "  <tbody>\n",
              "    <tr>\n",
              "      <th>0</th>\n",
              "      <td>/content/Final_folder_gender/Women/2_0_2_20161...</td>\n",
              "      <td>F</td>\n",
              "      <td>1</td>\n",
              "    </tr>\n",
              "    <tr>\n",
              "      <th>1</th>\n",
              "      <td>/content/Final_folder_gender/Women/59917.jpg</td>\n",
              "      <td>F</td>\n",
              "      <td>1</td>\n",
              "    </tr>\n",
              "    <tr>\n",
              "      <th>2</th>\n",
              "      <td>/content/Final_folder_gender/Women/3_1_4_20161...</td>\n",
              "      <td>F</td>\n",
              "      <td>1</td>\n",
              "    </tr>\n",
              "    <tr>\n",
              "      <th>3</th>\n",
              "      <td>/content/Final_folder_gender/Women/84964.jpg</td>\n",
              "      <td>F</td>\n",
              "      <td>1</td>\n",
              "    </tr>\n",
              "    <tr>\n",
              "      <th>4</th>\n",
              "      <td>/content/Final_folder_gender/Men/6261.jpg</td>\n",
              "      <td>M</td>\n",
              "      <td>0</td>\n",
              "    </tr>\n",
              "  </tbody>\n",
              "</table>\n",
              "</div>\n",
              "      <button class=\"colab-df-convert\" onclick=\"convertToInteractive('df-f3984adb-f33a-420e-a0f6-64481899738f')\"\n",
              "              title=\"Convert this dataframe to an interactive table.\"\n",
              "              style=\"display:none;\">\n",
              "        \n",
              "  <svg xmlns=\"http://www.w3.org/2000/svg\" height=\"24px\"viewBox=\"0 0 24 24\"\n",
              "       width=\"24px\">\n",
              "    <path d=\"M0 0h24v24H0V0z\" fill=\"none\"/>\n",
              "    <path d=\"M18.56 5.44l.94 2.06.94-2.06 2.06-.94-2.06-.94-.94-2.06-.94 2.06-2.06.94zm-11 1L8.5 8.5l.94-2.06 2.06-.94-2.06-.94L8.5 2.5l-.94 2.06-2.06.94zm10 10l.94 2.06.94-2.06 2.06-.94-2.06-.94-.94-2.06-.94 2.06-2.06.94z\"/><path d=\"M17.41 7.96l-1.37-1.37c-.4-.4-.92-.59-1.43-.59-.52 0-1.04.2-1.43.59L10.3 9.45l-7.72 7.72c-.78.78-.78 2.05 0 2.83L4 21.41c.39.39.9.59 1.41.59.51 0 1.02-.2 1.41-.59l7.78-7.78 2.81-2.81c.8-.78.8-2.07 0-2.86zM5.41 20L4 18.59l7.72-7.72 1.47 1.35L5.41 20z\"/>\n",
              "  </svg>\n",
              "      </button>\n",
              "      \n",
              "  <style>\n",
              "    .colab-df-container {\n",
              "      display:flex;\n",
              "      flex-wrap:wrap;\n",
              "      gap: 12px;\n",
              "    }\n",
              "\n",
              "    .colab-df-convert {\n",
              "      background-color: #E8F0FE;\n",
              "      border: none;\n",
              "      border-radius: 50%;\n",
              "      cursor: pointer;\n",
              "      display: none;\n",
              "      fill: #1967D2;\n",
              "      height: 32px;\n",
              "      padding: 0 0 0 0;\n",
              "      width: 32px;\n",
              "    }\n",
              "\n",
              "    .colab-df-convert:hover {\n",
              "      background-color: #E2EBFA;\n",
              "      box-shadow: 0px 1px 2px rgba(60, 64, 67, 0.3), 0px 1px 3px 1px rgba(60, 64, 67, 0.15);\n",
              "      fill: #174EA6;\n",
              "    }\n",
              "\n",
              "    [theme=dark] .colab-df-convert {\n",
              "      background-color: #3B4455;\n",
              "      fill: #D2E3FC;\n",
              "    }\n",
              "\n",
              "    [theme=dark] .colab-df-convert:hover {\n",
              "      background-color: #434B5C;\n",
              "      box-shadow: 0px 1px 3px 1px rgba(0, 0, 0, 0.15);\n",
              "      filter: drop-shadow(0px 1px 2px rgba(0, 0, 0, 0.3));\n",
              "      fill: #FFFFFF;\n",
              "    }\n",
              "  </style>\n",
              "\n",
              "      <script>\n",
              "        const buttonEl =\n",
              "          document.querySelector('#df-f3984adb-f33a-420e-a0f6-64481899738f button.colab-df-convert');\n",
              "        buttonEl.style.display =\n",
              "          google.colab.kernel.accessAllowed ? 'block' : 'none';\n",
              "\n",
              "        async function convertToInteractive(key) {\n",
              "          const element = document.querySelector('#df-f3984adb-f33a-420e-a0f6-64481899738f');\n",
              "          const dataTable =\n",
              "            await google.colab.kernel.invokeFunction('convertToInteractive',\n",
              "                                                     [key], {});\n",
              "          if (!dataTable) return;\n",
              "\n",
              "          const docLinkHtml = 'Like what you see? Visit the ' +\n",
              "            '<a target=\"_blank\" href=https://colab.research.google.com/notebooks/data_table.ipynb>data table notebook</a>'\n",
              "            + ' to learn more about interactive tables.';\n",
              "          element.innerHTML = '';\n",
              "          dataTable['output_type'] = 'display_data';\n",
              "          await google.colab.output.renderOutput(dataTable, element);\n",
              "          const docLink = document.createElement('div');\n",
              "          docLink.innerHTML = docLinkHtml;\n",
              "          element.appendChild(docLink);\n",
              "        }\n",
              "      </script>\n",
              "    </div>\n",
              "  </div>\n",
              "  "
            ]
          },
          "metadata": {},
          "execution_count": 7
        }
      ],
      "source": [
        "df_test_refined=pd.read_csv(\"/content/drive/MyDrive/Gender_prediction/csv/images_filenames_labels_test_gender.csv\")\n",
        "print(df_test_refined.shape)\n",
        "df_test_refined.head()"
      ]
    },
    {
      "cell_type": "markdown",
      "source": [
        "# Create Tensorflow Dataset"
      ],
      "metadata": {
        "id": "I74ThAx4NF4E"
      }
    },
    {
      "cell_type": "code",
      "execution_count": null,
      "metadata": {
        "id": "FqK2R4aVBqG-"
      },
      "outputs": [],
      "source": [
        "train_filename_tensor=tf.constant(list(df_aug_trainset[\"file\"]))\n",
        "train_label_tensor=tf.constant(list(df_aug_trainset[\"gender_class\"]))\n",
        "\n",
        "test_filename_tensor=tf.constant(list(df_test_refined[\"file\"]))\n",
        "test_label_tensor=tf.constant(list(df_test_refined[\"gender_class\"]))"
      ]
    },
    {
      "cell_type": "code",
      "execution_count": null,
      "metadata": {
        "id": "MAOZiR0CZB6k"
      },
      "outputs": [],
      "source": [
        "num_classes = 2\n",
        "\n",
        "def parse_function(filename, label):\n",
        "\n",
        "    image_string = tf.io.read_file(filename)\n",
        "    image_decoded = tf.io.decode_jpeg(image_string, channels=3)/255   # channels=1 to convert to grayscale, channels=3 to convert to RGB.\n",
        "    image_resized = tf.image.resize(image_decoded, [224, 224])\n",
        "    image_scaled=image_resized/255\n",
        "    label = tf.one_hot(label, num_classes)\n",
        "\n",
        "    return image_scaled, label"
      ]
    },
    {
      "cell_type": "code",
      "execution_count": null,
      "metadata": {
        "id": "U8_ZtSfKBqEt"
      },
      "outputs": [],
      "source": [
        "train_tf_dataset=tf.data.Dataset.from_tensor_slices((train_filename_tensor,train_label_tensor)).map(parse_function).batch(256)\n",
        "test_tf_dataset=tf.data.Dataset.from_tensor_slices((test_filename_tensor,test_label_tensor)).map(parse_function).batch(256)\n"
      ]
    },
    {
      "cell_type": "markdown",
      "source": [
        "# Define model architecture"
      ],
      "metadata": {
        "id": "WJ7QWiHQNSdM"
      }
    },
    {
      "cell_type": "code",
      "execution_count": null,
      "metadata": {
        "id": "vLgtxlqvBqCU"
      },
      "outputs": [],
      "source": [
        "from keras.applications.mobilenet import MobileNet\n",
        "from keras.layers import GlobalAveragePooling2D, Dense, Dropout, Flatten, BatchNormalization\n",
        "from keras.models import Sequential\n",
        "from keras.models import Model\n",
        "\n",
        "base_model=MobileNet( weights='imagenet',include_top=False,input_shape=(224,224,3)) #imports the mobilenet model and discards the last 1000 neuron layer.\n",
        "x=base_model.output\n",
        "x=GlobalMaxPooling2D()(x)\n",
        "dense_1 = Dense(1024, activation='relu')(x)\n",
        "dropout_1 = Dropout(0.5)(dense_1)  # Adding dropout layer with a dropout rate of 0.3\n",
        "dense_2 = Dense(512, activation='relu')(dropout_1)\n",
        "dropout_2 = Dropout(0.5)(dense_2)  # Adding another dropout layer with a dropout rate of 0.3\n",
        "dense_3 = Dense(256, activation='relu')(dropout_2)\n",
        "dropout_3 = Dropout(0.5)(x)  # Adding another dropout layer with a dropout rate of 0.3\n",
        "dense_4=Dense(64, activation='relu')(dropout_3)\n",
        "dropout_4 = Dropout(0.5)(x)\n",
        "preds = Dense(2, activation='softmax')(dropout_4)\n",
        "\n",
        "model=Model(inputs=base_model.input,outputs=preds)\n",
        "\n"
      ]
    },
    {
      "cell_type": "code",
      "source": [
        "#freezing the initial layers\n",
        "for layer in model.layers[:35]:\n",
        "    layer.trainable=False\n",
        "for layer in model.layers[35:]:\n",
        "    layer.trainable=True"
      ],
      "metadata": {
        "id": "aWzUZ_ebII9c"
      },
      "execution_count": null,
      "outputs": []
    },
    {
      "cell_type": "code",
      "execution_count": null,
      "metadata": {
        "colab": {
          "base_uri": "https://localhost:8080/"
        },
        "id": "isnCCM27Bp_5",
        "outputId": "2a0c1fc0-e62d-4754-a560-9b1b4e9123e0"
      },
      "outputs": [
        {
          "output_type": "stream",
          "name": "stdout",
          "text": [
            "Model: \"model_1\"\n",
            "_________________________________________________________________\n",
            " Layer (type)                Output Shape              Param #   \n",
            "=================================================================\n",
            " input_2 (InputLayer)        [(None, 224, 224, 3)]     0         \n",
            "                                                                 \n",
            " conv1 (Conv2D)              (None, 112, 112, 32)      864       \n",
            "                                                                 \n",
            " conv1_bn (BatchNormalizatio  (None, 112, 112, 32)     128       \n",
            " n)                                                              \n",
            "                                                                 \n",
            " conv1_relu (ReLU)           (None, 112, 112, 32)      0         \n",
            "                                                                 \n",
            " conv_dw_1 (DepthwiseConv2D)  (None, 112, 112, 32)     288       \n",
            "                                                                 \n",
            " conv_dw_1_bn (BatchNormaliz  (None, 112, 112, 32)     128       \n",
            " ation)                                                          \n",
            "                                                                 \n",
            " conv_dw_1_relu (ReLU)       (None, 112, 112, 32)      0         \n",
            "                                                                 \n",
            " conv_pw_1 (Conv2D)          (None, 112, 112, 64)      2048      \n",
            "                                                                 \n",
            " conv_pw_1_bn (BatchNormaliz  (None, 112, 112, 64)     256       \n",
            " ation)                                                          \n",
            "                                                                 \n",
            " conv_pw_1_relu (ReLU)       (None, 112, 112, 64)      0         \n",
            "                                                                 \n",
            " conv_pad_2 (ZeroPadding2D)  (None, 113, 113, 64)      0         \n",
            "                                                                 \n",
            " conv_dw_2 (DepthwiseConv2D)  (None, 56, 56, 64)       576       \n",
            "                                                                 \n",
            " conv_dw_2_bn (BatchNormaliz  (None, 56, 56, 64)       256       \n",
            " ation)                                                          \n",
            "                                                                 \n",
            " conv_dw_2_relu (ReLU)       (None, 56, 56, 64)        0         \n",
            "                                                                 \n",
            " conv_pw_2 (Conv2D)          (None, 56, 56, 128)       8192      \n",
            "                                                                 \n",
            " conv_pw_2_bn (BatchNormaliz  (None, 56, 56, 128)      512       \n",
            " ation)                                                          \n",
            "                                                                 \n",
            " conv_pw_2_relu (ReLU)       (None, 56, 56, 128)       0         \n",
            "                                                                 \n",
            " conv_dw_3 (DepthwiseConv2D)  (None, 56, 56, 128)      1152      \n",
            "                                                                 \n",
            " conv_dw_3_bn (BatchNormaliz  (None, 56, 56, 128)      512       \n",
            " ation)                                                          \n",
            "                                                                 \n",
            " conv_dw_3_relu (ReLU)       (None, 56, 56, 128)       0         \n",
            "                                                                 \n",
            " conv_pw_3 (Conv2D)          (None, 56, 56, 128)       16384     \n",
            "                                                                 \n",
            " conv_pw_3_bn (BatchNormaliz  (None, 56, 56, 128)      512       \n",
            " ation)                                                          \n",
            "                                                                 \n",
            " conv_pw_3_relu (ReLU)       (None, 56, 56, 128)       0         \n",
            "                                                                 \n",
            " conv_pad_4 (ZeroPadding2D)  (None, 57, 57, 128)       0         \n",
            "                                                                 \n",
            " conv_dw_4 (DepthwiseConv2D)  (None, 28, 28, 128)      1152      \n",
            "                                                                 \n",
            " conv_dw_4_bn (BatchNormaliz  (None, 28, 28, 128)      512       \n",
            " ation)                                                          \n",
            "                                                                 \n",
            " conv_dw_4_relu (ReLU)       (None, 28, 28, 128)       0         \n",
            "                                                                 \n",
            " conv_pw_4 (Conv2D)          (None, 28, 28, 256)       32768     \n",
            "                                                                 \n",
            " conv_pw_4_bn (BatchNormaliz  (None, 28, 28, 256)      1024      \n",
            " ation)                                                          \n",
            "                                                                 \n",
            " conv_pw_4_relu (ReLU)       (None, 28, 28, 256)       0         \n",
            "                                                                 \n",
            " conv_dw_5 (DepthwiseConv2D)  (None, 28, 28, 256)      2304      \n",
            "                                                                 \n",
            " conv_dw_5_bn (BatchNormaliz  (None, 28, 28, 256)      1024      \n",
            " ation)                                                          \n",
            "                                                                 \n",
            " conv_dw_5_relu (ReLU)       (None, 28, 28, 256)       0         \n",
            "                                                                 \n",
            " conv_pw_5 (Conv2D)          (None, 28, 28, 256)       65536     \n",
            "                                                                 \n",
            " conv_pw_5_bn (BatchNormaliz  (None, 28, 28, 256)      1024      \n",
            " ation)                                                          \n",
            "                                                                 \n",
            " conv_pw_5_relu (ReLU)       (None, 28, 28, 256)       0         \n",
            "                                                                 \n",
            " conv_pad_6 (ZeroPadding2D)  (None, 29, 29, 256)       0         \n",
            "                                                                 \n",
            " conv_dw_6 (DepthwiseConv2D)  (None, 14, 14, 256)      2304      \n",
            "                                                                 \n",
            " conv_dw_6_bn (BatchNormaliz  (None, 14, 14, 256)      1024      \n",
            " ation)                                                          \n",
            "                                                                 \n",
            " conv_dw_6_relu (ReLU)       (None, 14, 14, 256)       0         \n",
            "                                                                 \n",
            " conv_pw_6 (Conv2D)          (None, 14, 14, 512)       131072    \n",
            "                                                                 \n",
            " conv_pw_6_bn (BatchNormaliz  (None, 14, 14, 512)      2048      \n",
            " ation)                                                          \n",
            "                                                                 \n",
            " conv_pw_6_relu (ReLU)       (None, 14, 14, 512)       0         \n",
            "                                                                 \n",
            " conv_dw_7 (DepthwiseConv2D)  (None, 14, 14, 512)      4608      \n",
            "                                                                 \n",
            " conv_dw_7_bn (BatchNormaliz  (None, 14, 14, 512)      2048      \n",
            " ation)                                                          \n",
            "                                                                 \n",
            " conv_dw_7_relu (ReLU)       (None, 14, 14, 512)       0         \n",
            "                                                                 \n",
            " conv_pw_7 (Conv2D)          (None, 14, 14, 512)       262144    \n",
            "                                                                 \n",
            " conv_pw_7_bn (BatchNormaliz  (None, 14, 14, 512)      2048      \n",
            " ation)                                                          \n",
            "                                                                 \n",
            " conv_pw_7_relu (ReLU)       (None, 14, 14, 512)       0         \n",
            "                                                                 \n",
            " conv_dw_8 (DepthwiseConv2D)  (None, 14, 14, 512)      4608      \n",
            "                                                                 \n",
            " conv_dw_8_bn (BatchNormaliz  (None, 14, 14, 512)      2048      \n",
            " ation)                                                          \n",
            "                                                                 \n",
            " conv_dw_8_relu (ReLU)       (None, 14, 14, 512)       0         \n",
            "                                                                 \n",
            " conv_pw_8 (Conv2D)          (None, 14, 14, 512)       262144    \n",
            "                                                                 \n",
            " conv_pw_8_bn (BatchNormaliz  (None, 14, 14, 512)      2048      \n",
            " ation)                                                          \n",
            "                                                                 \n",
            " conv_pw_8_relu (ReLU)       (None, 14, 14, 512)       0         \n",
            "                                                                 \n",
            " conv_dw_9 (DepthwiseConv2D)  (None, 14, 14, 512)      4608      \n",
            "                                                                 \n",
            " conv_dw_9_bn (BatchNormaliz  (None, 14, 14, 512)      2048      \n",
            " ation)                                                          \n",
            "                                                                 \n",
            " conv_dw_9_relu (ReLU)       (None, 14, 14, 512)       0         \n",
            "                                                                 \n",
            " conv_pw_9 (Conv2D)          (None, 14, 14, 512)       262144    \n",
            "                                                                 \n",
            " conv_pw_9_bn (BatchNormaliz  (None, 14, 14, 512)      2048      \n",
            " ation)                                                          \n",
            "                                                                 \n",
            " conv_pw_9_relu (ReLU)       (None, 14, 14, 512)       0         \n",
            "                                                                 \n",
            " conv_dw_10 (DepthwiseConv2D  (None, 14, 14, 512)      4608      \n",
            " )                                                               \n",
            "                                                                 \n",
            " conv_dw_10_bn (BatchNormali  (None, 14, 14, 512)      2048      \n",
            " zation)                                                         \n",
            "                                                                 \n",
            " conv_dw_10_relu (ReLU)      (None, 14, 14, 512)       0         \n",
            "                                                                 \n",
            " conv_pw_10 (Conv2D)         (None, 14, 14, 512)       262144    \n",
            "                                                                 \n",
            " conv_pw_10_bn (BatchNormali  (None, 14, 14, 512)      2048      \n",
            " zation)                                                         \n",
            "                                                                 \n",
            " conv_pw_10_relu (ReLU)      (None, 14, 14, 512)       0         \n",
            "                                                                 \n",
            " conv_dw_11 (DepthwiseConv2D  (None, 14, 14, 512)      4608      \n",
            " )                                                               \n",
            "                                                                 \n",
            " conv_dw_11_bn (BatchNormali  (None, 14, 14, 512)      2048      \n",
            " zation)                                                         \n",
            "                                                                 \n",
            " conv_dw_11_relu (ReLU)      (None, 14, 14, 512)       0         \n",
            "                                                                 \n",
            " conv_pw_11 (Conv2D)         (None, 14, 14, 512)       262144    \n",
            "                                                                 \n",
            " conv_pw_11_bn (BatchNormali  (None, 14, 14, 512)      2048      \n",
            " zation)                                                         \n",
            "                                                                 \n",
            " conv_pw_11_relu (ReLU)      (None, 14, 14, 512)       0         \n",
            "                                                                 \n",
            " conv_pad_12 (ZeroPadding2D)  (None, 15, 15, 512)      0         \n",
            "                                                                 \n",
            " conv_dw_12 (DepthwiseConv2D  (None, 7, 7, 512)        4608      \n",
            " )                                                               \n",
            "                                                                 \n",
            " conv_dw_12_bn (BatchNormali  (None, 7, 7, 512)        2048      \n",
            " zation)                                                         \n",
            "                                                                 \n",
            " conv_dw_12_relu (ReLU)      (None, 7, 7, 512)         0         \n",
            "                                                                 \n",
            " conv_pw_12 (Conv2D)         (None, 7, 7, 1024)        524288    \n",
            "                                                                 \n",
            " conv_pw_12_bn (BatchNormali  (None, 7, 7, 1024)       4096      \n",
            " zation)                                                         \n",
            "                                                                 \n",
            " conv_pw_12_relu (ReLU)      (None, 7, 7, 1024)        0         \n",
            "                                                                 \n",
            " conv_dw_13 (DepthwiseConv2D  (None, 7, 7, 1024)       9216      \n",
            " )                                                               \n",
            "                                                                 \n",
            " conv_dw_13_bn (BatchNormali  (None, 7, 7, 1024)       4096      \n",
            " zation)                                                         \n",
            "                                                                 \n",
            " conv_dw_13_relu (ReLU)      (None, 7, 7, 1024)        0         \n",
            "                                                                 \n",
            " conv_pw_13 (Conv2D)         (None, 7, 7, 1024)        1048576   \n",
            "                                                                 \n",
            " conv_pw_13_bn (BatchNormali  (None, 7, 7, 1024)       4096      \n",
            " zation)                                                         \n",
            "                                                                 \n",
            " conv_pw_13_relu (ReLU)      (None, 7, 7, 1024)        0         \n",
            "                                                                 \n",
            " global_max_pooling2d_1 (Glo  (None, 1024)             0         \n",
            " balMaxPooling2D)                                                \n",
            "                                                                 \n",
            " dropout_1 (Dropout)         (None, 1024)              0         \n",
            "                                                                 \n",
            " dense_1 (Dense)             (None, 2)                 2050      \n",
            "                                                                 \n",
            "=================================================================\n",
            "Total params: 3,230,914\n",
            "Trainable params: 3,209,026\n",
            "Non-trainable params: 21,888\n",
            "_________________________________________________________________\n"
          ]
        }
      ],
      "source": [
        "model.summary()"
      ]
    },
    {
      "cell_type": "code",
      "execution_count": null,
      "metadata": {
        "id": "1DSEFcIvb_Lc"
      },
      "outputs": [],
      "source": [
        "model.compile(loss=\"categorical_crossentropy\",optimizer=\"adam\",metrics=[\"accuracy\"])\n"
      ]
    },
    {
      "cell_type": "code",
      "execution_count": null,
      "metadata": {
        "id": "CJivDxdcfLsO"
      },
      "outputs": [],
      "source": [
        "#creating model checkpoint\n",
        "tensorboard = TensorBoard(log_dir=f\"/content/drive/MyDrive/Gender_prediction/log_final/\")\n",
        "checkpoint = ModelCheckpoint(filepath=f\"/content/drive/MyDrive/Gender_prediction/log_final/model_checkpoint_gen_freezed.h5\",\n",
        "                             monitor='val_accuracy',\n",
        "                             save_best_only=True,\n",
        "                             save_weights_only=False,\n",
        "                             verbose=1\n",
        "                            )"
      ]
    },
    {
      "cell_type": "markdown",
      "source": [
        "# Train the model"
      ],
      "metadata": {
        "id": "iw1ac_-CNjQ7"
      }
    },
    {
      "cell_type": "code",
      "execution_count": null,
      "metadata": {
        "colab": {
          "base_uri": "https://localhost:8080/"
        },
        "id": "bb2p6hYLzqAe",
        "outputId": "854fbc18-ba36-47eb-fa08-1676f1eb8cb0"
      },
      "outputs": [
        {
          "output_type": "stream",
          "name": "stdout",
          "text": [
            "Epoch 1/30\n",
            "302/302 [==============================] - ETA: 0s - loss: 1.0612 - accuracy: 0.8077\n",
            "Epoch 1: val_accuracy improved from -inf to 0.56880, saving model to /content/drive/MyDrive/Gender_prediction/log_final/model_checkpoint_gen_freezed.h5\n",
            "302/302 [==============================] - 330s 997ms/step - loss: 1.0612 - accuracy: 0.8077 - val_loss: 0.7094 - val_accuracy: 0.5688\n",
            "Epoch 2/30\n",
            "302/302 [==============================] - ETA: 0s - loss: 0.2286 - accuracy: 0.9027\n",
            "Epoch 2: val_accuracy improved from 0.56880 to 0.81909, saving model to /content/drive/MyDrive/Gender_prediction/log_final/model_checkpoint_gen_freezed.h5\n",
            "302/302 [==============================] - 289s 958ms/step - loss: 0.2286 - accuracy: 0.9027 - val_loss: 0.4148 - val_accuracy: 0.8191\n",
            "Epoch 3/30\n",
            "302/302 [==============================] - ETA: 0s - loss: 0.1729 - accuracy: 0.9276\n",
            "Epoch 3: val_accuracy improved from 0.81909 to 0.88811, saving model to /content/drive/MyDrive/Gender_prediction/log_final/model_checkpoint_gen_freezed.h5\n",
            "302/302 [==============================] - 299s 991ms/step - loss: 0.1729 - accuracy: 0.9276 - val_loss: 0.2553 - val_accuracy: 0.8881\n",
            "Epoch 4/30\n",
            "302/302 [==============================] - ETA: 0s - loss: 0.1386 - accuracy: 0.9436\n",
            "Epoch 4: val_accuracy did not improve from 0.88811\n",
            "302/302 [==============================] - 298s 987ms/step - loss: 0.1386 - accuracy: 0.9436 - val_loss: 0.3958 - val_accuracy: 0.8636\n",
            "Epoch 5/30\n",
            "302/302 [==============================] - ETA: 0s - loss: 0.1190 - accuracy: 0.9521\n",
            "Epoch 5: val_accuracy improved from 0.88811 to 0.89455, saving model to /content/drive/MyDrive/Gender_prediction/log_final/model_checkpoint_gen_freezed.h5\n",
            "302/302 [==============================] - 289s 957ms/step - loss: 0.1190 - accuracy: 0.9521 - val_loss: 0.3397 - val_accuracy: 0.8946\n",
            "Epoch 6/30\n",
            "302/302 [==============================] - ETA: 0s - loss: 0.1102 - accuracy: 0.9546\n",
            "Epoch 6: val_accuracy did not improve from 0.89455\n",
            "302/302 [==============================] - 298s 987ms/step - loss: 0.1102 - accuracy: 0.9546 - val_loss: 0.3312 - val_accuracy: 0.8917\n",
            "Epoch 7/30\n",
            "302/302 [==============================] - ETA: 0s - loss: 0.0975 - accuracy: 0.9601\n",
            "Epoch 7: val_accuracy improved from 0.89455 to 0.89682, saving model to /content/drive/MyDrive/Gender_prediction/log_final/model_checkpoint_gen_freezed.h5\n",
            "302/302 [==============================] - 299s 992ms/step - loss: 0.0975 - accuracy: 0.9601 - val_loss: 0.2542 - val_accuracy: 0.8968\n",
            "Epoch 8/30\n",
            "302/302 [==============================] - ETA: 0s - loss: 0.0873 - accuracy: 0.9652\n",
            "Epoch 8: val_accuracy did not improve from 0.89682\n",
            "302/302 [==============================] - 288s 953ms/step - loss: 0.0873 - accuracy: 0.9652 - val_loss: 0.5296 - val_accuracy: 0.8479\n",
            "Epoch 9/30\n",
            "302/302 [==============================] - ETA: 0s - loss: 0.0825 - accuracy: 0.9677\n",
            "Epoch 9: val_accuracy did not improve from 0.89682\n",
            "302/302 [==============================] - 288s 955ms/step - loss: 0.0825 - accuracy: 0.9677 - val_loss: 0.3933 - val_accuracy: 0.8861\n",
            "Epoch 10/30\n",
            "302/302 [==============================] - ETA: 0s - loss: 0.0735 - accuracy: 0.9717\n",
            "Epoch 10: val_accuracy did not improve from 0.89682\n",
            "302/302 [==============================] - 298s 987ms/step - loss: 0.0735 - accuracy: 0.9717 - val_loss: 0.8082 - val_accuracy: 0.8120\n",
            "Epoch 11/30\n",
            "302/302 [==============================] - ETA: 0s - loss: 0.0659 - accuracy: 0.9755\n",
            "Epoch 11: val_accuracy improved from 0.89682 to 0.89964, saving model to /content/drive/MyDrive/Gender_prediction/log_final/model_checkpoint_gen_freezed.h5\n",
            "302/302 [==============================] - 289s 957ms/step - loss: 0.0659 - accuracy: 0.9755 - val_loss: 0.3875 - val_accuracy: 0.8996\n",
            "Epoch 12/30\n",
            "302/302 [==============================] - ETA: 0s - loss: 0.0616 - accuracy: 0.9767\n",
            "Epoch 12: val_accuracy did not improve from 0.89964\n",
            "302/302 [==============================] - 298s 986ms/step - loss: 0.0616 - accuracy: 0.9767 - val_loss: 0.4043 - val_accuracy: 0.8941\n",
            "Epoch 13/30\n",
            "302/302 [==============================] - ETA: 0s - loss: 0.0575 - accuracy: 0.9784\n",
            "Epoch 13: val_accuracy did not improve from 0.89964\n",
            "302/302 [==============================] - 298s 987ms/step - loss: 0.0575 - accuracy: 0.9784 - val_loss: 0.5242 - val_accuracy: 0.8696\n",
            "Epoch 14/30\n",
            "302/302 [==============================] - ETA: 0s - loss: 0.0519 - accuracy: 0.9803\n",
            "Epoch 14: val_accuracy did not improve from 0.89964\n",
            "302/302 [==============================] - 288s 953ms/step - loss: 0.0519 - accuracy: 0.9803 - val_loss: 0.8057 - val_accuracy: 0.7986\n",
            "Epoch 15/30\n",
            "302/302 [==============================] - ETA: 0s - loss: 0.0516 - accuracy: 0.9805\n",
            "Epoch 15: val_accuracy did not improve from 0.89964\n",
            "302/302 [==============================] - 298s 986ms/step - loss: 0.0516 - accuracy: 0.9805 - val_loss: 0.5579 - val_accuracy: 0.8868\n",
            "Epoch 16/30\n",
            "302/302 [==============================] - ETA: 0s - loss: 0.0480 - accuracy: 0.9822\n",
            "Epoch 16: val_accuracy did not improve from 0.89964\n",
            "302/302 [==============================] - 288s 952ms/step - loss: 0.0480 - accuracy: 0.9822 - val_loss: 0.5131 - val_accuracy: 0.8802\n",
            "Epoch 17/30\n",
            "136/302 [============>.................] - ETA: 2:21 - loss: 0.0481 - accuracy: 0.9824"
          ]
        }
      ],
      "source": [
        "history=model.fit(train_tf_dataset,batch_size=256,\n",
        "                        validation_data=test_tf_dataset,\n",
        "                        epochs=30, callbacks=[tensorboard,checkpoint],\n",
        "                        shuffle=False)"
      ]
    },
    {
      "cell_type": "markdown",
      "source": [
        "# Visualise the training process"
      ],
      "metadata": {
        "id": "R1b_UJcxNptM"
      }
    },
    {
      "cell_type": "code",
      "execution_count": null,
      "metadata": {
        "id": "IS5f81ILfnF_"
      },
      "outputs": [],
      "source": [
        "train_loss = history.history['loss']\n",
        "test_loss = history.history['val_loss']\n",
        "train_accuracy = history.history['accuracy']\n",
        "test_accuracy = history.history['val_accuracy']"
      ]
    },
    {
      "cell_type": "code",
      "execution_count": null,
      "metadata": {
        "id": "Tw5Bhfhcuzsy"
      },
      "outputs": [],
      "source": [
        "# Plotting a line chart to visualize the loss and accuracy values by epochs.\n",
        "\n",
        "import matplotlib.pyplot as plt\n",
        "fig, ax = plt.subplots(ncols=2, figsize=(15,7))\n",
        "\n",
        "ax = ax.ravel()\n",
        "\n",
        "ax[0].plot(train_loss, label='Train Loss', color='royalblue', marker='o', markersize=5)\n",
        "ax[0].plot(test_loss, label='Test Loss', color = 'orangered', marker='o', markersize=5)\n",
        "\n",
        "ax[0].set_xlabel('Epochs', fontsize=14)\n",
        "ax[0].set_ylabel('Categorical Crossentropy', fontsize=14)\n",
        "\n",
        "ax[0].legend(fontsize=14)\n",
        "ax[0].tick_params(axis='both', labelsize=12)\n",
        "\n",
        "ax[1].plot(train_accuracy, label='Train Accuracy', color='royalblue', marker='o', markersize=5)\n",
        "ax[1].plot(test_accuracy, label='Test Accuracy', color='orangered', marker='o', markersize=5)\n",
        "\n",
        "ax[1].set_xlabel('Epochs', fontsize=14)\n",
        "ax[1].set_ylabel('Accuracy', fontsize=14)\n",
        "\n",
        "ax[1].legend(fontsize=14)\n",
        "ax[1].tick_params(axis='both', labelsize=12)\n",
        "\n",
        "fig.suptitle(x=0.5, y=0.92, t=\"Lineplots showing loss and accuracy of CNN model by epochs\", fontsize=16)\n"
      ]
    },
    {
      "cell_type": "markdown",
      "source": [
        "# Model evaluate"
      ],
      "metadata": {
        "id": "b66t51UNNxyx"
      }
    },
    {
      "cell_type": "code",
      "execution_count": null,
      "metadata": {
        "id": "pjhTHbgtu3n-"
      },
      "outputs": [],
      "source": [
        "\n",
        "final_cnn_score = model.evaluate(test_tf_dataset, verbose=1)\n"
      ]
    },
    {
      "cell_type": "code",
      "execution_count": null,
      "metadata": {
        "id": "XzFVvC_go8h4"
      },
      "outputs": [],
      "source": [
        "from google.colab import runtime\n",
        "runtime.unassign()"
      ]
    }
  ],
  "metadata": {
    "accelerator": "GPU",
    "colab": {
      "provenance": [],
      "gpuType": "T4"
    },
    "kernelspec": {
      "display_name": "Python 3",
      "name": "python3"
    },
    "language_info": {
      "codemirror_mode": {
        "name": "ipython",
        "version": 3
      },
      "file_extension": ".py",
      "mimetype": "text/x-python",
      "name": "python",
      "nbconvert_exporter": "python",
      "pygments_lexer": "ipython3",
      "version": "3.8.0"
    }
  },
  "nbformat": 4,
  "nbformat_minor": 0
}