{
  "cells": [
    {
      "cell_type": "code",
      "execution_count": null,
      "metadata": {
        "colab": {
          "base_uri": "https://localhost:8080/"
        },
        "id": "yRGrIyEExim0",
        "outputId": "78b27c01-040c-4e7e-93f3-b23c8746fda4"
      },
      "outputs": [],
      "source": [
        "from google.colab import drive\n",
        "drive.mount('/content/drive')"
      ]
    },
    {
      "cell_type": "code",
      "execution_count": null,
      "metadata": {
        "id": "Dbtw5-dMuBA8"
      },
      "outputs": [],
      "source": [
        "\n",
        "# # Testing to ensure GPU is being utilized.\n",
        "\n",
        "device_name = tf.test.gpu_device_name()\n",
        "if device_name != '/device:GPU:0':\n",
        "    raise SystemError('GPU device not found')\n",
        "print('Found GPU at: {}'.format(device_name))"
      ]
    },
    {
      "attachments": {},
      "cell_type": "markdown",
      "metadata": {
        "id": "dBK_TWufOSiZ"
      },
      "source": [
        "# Import necessary libraries"
      ]
    },
    {
      "cell_type": "code",
      "execution_count": null,
      "metadata": {
        "id": "xKQZxg44xL-6"
      },
      "outputs": [],
      "source": [
        "import pandas as pd\n",
        "import numpy as np\n",
        "\n",
        "import os\n",
        "from zipfile import ZipFile\n",
        "\n",
        "from sklearn.model_selection import train_test_split\n",
        "from sklearn.utils import shuffle\n",
        "\n",
        "\n",
        "import tensorflow as tf\n",
        "from tensorflow.keras.models import Sequential\n",
        "from tensorflow.keras.layers import Dense\n",
        "from tensorflow.keras.layers import Conv2D, AveragePooling2D, GlobalAveragePooling2D, Dropout, GlobalMaxPooling2D, MaxPooling2D ,Flatten\n",
        "from tensorflow.keras import utils\n",
        "from tensorflow.keras.callbacks import TensorBoard, ModelCheckpoint\n",
        "\n",
        "\n",
        "np.random.seed(42)\n",
        "tf.random.set_seed(42)"
      ]
    },
    {
      "attachments": {},
      "cell_type": "markdown",
      "metadata": {
        "id": "tQZAdy9sOYRf"
      },
      "source": [
        "# Import dataset"
      ]
    },
    {
      "cell_type": "code",
      "execution_count": null,
      "metadata": {
        "colab": {
          "base_uri": "https://localhost:8080/"
        },
        "id": "GmeQlDAwyOot",
        "outputId": "6890fe11-4591-41ef-89f7-dcfaa18223fb"
      },
      "outputs": [],
      "source": [
        "zippath=\"/content/drive/MyDrive/Age_Estimation/Dataset/combined_faces_train_augmented_rottaion.zip\"\n",
        "\n",
        "with ZipFile(zippath,\"r\") as data:\n",
        "  data.extractall()\n",
        "print(\"unzip done\")"
      ]
    },
    {
      "cell_type": "code",
      "execution_count": null,
      "metadata": {
        "colab": {
          "base_uri": "https://localhost:8080/"
        },
        "id": "_X17a55CRO6P",
        "outputId": "b811a9ec-5398-44d3-ce26-166438fcf87f"
      },
      "outputs": [],
      "source": [
        "zippath=\"/content/drive/MyDrive/Age_Estimation/Dataset/combined_faces_refined_final.zip\"\n",
        "\n",
        "with ZipFile(zippath,\"r\") as data:\n",
        "  data.extractall()\n",
        "print(\"unzip done\")"
      ]
    },
    {
      "attachments": {},
      "cell_type": "markdown",
      "metadata": {
        "id": "0kZKbIyCPuv2"
      },
      "source": [
        "# Read the Data"
      ]
    },
    {
      "cell_type": "code",
      "execution_count": null,
      "metadata": {
        "colab": {
          "base_uri": "https://localhost:8080/",
          "height": 224
        },
        "id": "ZP7imJz4RunM",
        "outputId": "9c865495-2c7b-4cde-a68c-12540cb46791"
      },
      "outputs": [],
      "source": [
        "df_aug_trainset=pd.read_csv(\"/content/drive/MyDrive/Age_Estimation/csv/images_filenames_labels_train_augmented_mega.csv\")\n",
        "print(df_aug_trainset.shape)\n",
        "df_aug_trainset.head()"
      ]
    },
    {
      "cell_type": "code",
      "execution_count": null,
      "metadata": {
        "colab": {
          "base_uri": "https://localhost:8080/",
          "height": 224
        },
        "id": "xDCCmPTNRuj0",
        "outputId": "b43994ca-5eab-43d7-d1e1-cd6ef26e78bd"
      },
      "outputs": [],
      "source": [
        "df_test_refined=pd.read_csv(\"/content/drive/MyDrive/Age_Estimation/csv/images_filenames_labels_test_final.csv\")\n",
        "print(df_test_refined.shape)\n",
        "df_test_refined.head()"
      ]
    },
    {
      "cell_type": "code",
      "execution_count": null,
      "metadata": {
        "colab": {
          "base_uri": "https://localhost:8080/",
          "height": 206
        },
        "id": "78yVMBWCRuiI",
        "outputId": "4d070953-10d5-4809-8fc6-9111c99ebfbe"
      },
      "outputs": [],
      "source": [
        "df_aug_trainset=shuffle(df_aug_trainset,random_state=42).reset_index(drop=True)\n",
        "df_aug_trainset.head()"
      ]
    },
    {
      "attachments": {},
      "cell_type": "markdown",
      "metadata": {
        "id": "Bmn7VWElP2Mr"
      },
      "source": [
        "# Create tensorflow Dataset"
      ]
    },
    {
      "cell_type": "code",
      "execution_count": null,
      "metadata": {
        "id": "FqK2R4aVBqG-"
      },
      "outputs": [],
      "source": [
        "train_filename_tensor=tf.constant(list(df_aug_trainset[\"filename\"]))\n",
        "train_label_tensor=tf.constant(list(df_aug_trainset[\"age_class\"]))\n",
        "\n",
        "test_filename_tensor=tf.constant(list(df_test_refined[\"filename\"]))\n",
        "test_label_tensor=tf.constant(list(df_test_refined[\"age_class\"]))"
      ]
    },
    {
      "cell_type": "code",
      "execution_count": null,
      "metadata": {
        "id": "MAOZiR0CZB6k"
      },
      "outputs": [],
      "source": [
        "num_classes = 7\n",
        "\n",
        "def parse_function(filename, label):\n",
        "\n",
        "    image_string = tf.io.read_file(filename)\n",
        "    image_decoded = tf.io.decode_jpeg(image_string, channels=3)    # channels=1 to convert to grayscale, channels=3 to convert to RGB.\n",
        "    image_decoded = tf.image.resize(image_decoded, [224, 224])\n",
        "    label = tf.one_hot(label, num_classes)\n",
        "\n",
        "    return image_decoded, label"
      ]
    },
    {
      "cell_type": "code",
      "execution_count": null,
      "metadata": {
        "id": "U8_ZtSfKBqEt"
      },
      "outputs": [],
      "source": [
        "train_tf_dataset=tf.data.Dataset.from_tensor_slices((train_filename_tensor,train_label_tensor)).map(parse_function).batch(512)\n",
        "test_tf_dataset=tf.data.Dataset.from_tensor_slices((test_filename_tensor,test_label_tensor)).map(parse_function).batch(512)\n"
      ]
    },
    {
      "attachments": {},
      "cell_type": "markdown",
      "metadata": {
        "id": "_d6iQ2vB1ZzG"
      },
      "source": [
        "# Define Model Architecture"
      ]
    },
    {
      "cell_type": "code",
      "execution_count": null,
      "metadata": {
        "colab": {
          "base_uri": "https://localhost:8080/"
        },
        "id": "OVDWM9JM1cSO",
        "outputId": "a4418b92-4a58-4f74-bdfb-5ca12662b50a"
      },
      "outputs": [],
      "source": [
        "from keras.applications.mobilenet import MobileNet\n",
        "from keras.layers import GlobalAveragePooling2D, Dense, Dropout, Flatten, BatchNormalization\n",
        "from keras.models import Sequential\n",
        "from keras.models import Model\n",
        "\n",
        "base_model=MobileNet( weights='imagenet',include_top=False,input_shape=(224,224,3)) #imports the mobilenet model and discards the last 1000 neuron layer.\n",
        "x=base_model.output\n",
        "x=GlobalAveragePooling2D()(x)\n",
        "\n",
        "x=Dense(1024,activation='relu')(x) #we add dense layers so that the model can learn more complex functions and classify for better results.\n",
        "x=Dense(1024,activation='relu')(x) #dense layer 2\n",
        "x=Dense(512,activation='relu')(x) #dense layer 3\n",
        "\n",
        "preds=Dense(7,activation='softmax')(x)"
      ]
    },
    {
      "cell_type": "code",
      "execution_count": null,
      "metadata": {
        "id": "fAReP55O154i"
      },
      "outputs": [],
      "source": [
        "model=Model(inputs=base_model.input,outputs=preds)\n",
        "for layer in model.layers[:20]:\n",
        "    layer.trainable=False\n",
        "for layer in model.layers[20:]:\n",
        "    layer.trainable=True"
      ]
    },
    {
      "cell_type": "code",
      "execution_count": null,
      "metadata": {
        "colab": {
          "base_uri": "https://localhost:8080/"
        },
        "id": "isnCCM27Bp_5",
        "outputId": "26f9041d-12e2-4f73-af5c-a24afa2f2e76"
      },
      "outputs": [],
      "source": [
        "model.summary()"
      ]
    },
    {
      "cell_type": "code",
      "execution_count": null,
      "metadata": {
        "id": "1DSEFcIvb_Lc"
      },
      "outputs": [],
      "source": [
        "model.compile(loss=\"categorical_crossentropy\",optimizer=\"adam\",metrics=[\"accuracy\"])\n"
      ]
    },
    {
      "cell_type": "code",
      "execution_count": null,
      "metadata": {
        "id": "CJivDxdcfLsO"
      },
      "outputs": [],
      "source": [
        "tensorboard = TensorBoard(log_dir=f\"/content/drive/MyDrive/Age_Estimation/log_final/\")\n",
        "checkpoint = ModelCheckpoint(filepath=f\"/content/drive/MyDrive/Age_Estimation/log_final/model_checkpoint_reassignedAge_mobilenet.h5\",\n",
        "                             monitor='val_accuracy',\n",
        "                             save_best_only=True,\n",
        "                             save_weights_only=False,\n",
        "                             verbose=1\n",
        "                            )"
      ]
    },
    {
      "attachments": {},
      "cell_type": "markdown",
      "metadata": {},
      "source": [
        "# Train the model"
      ]
    },
    {
      "cell_type": "code",
      "execution_count": null,
      "metadata": {
        "colab": {
          "base_uri": "https://localhost:8080/",
          "height": 1000
        },
        "id": "bb2p6hYLzqAe",
        "outputId": "6ce22ac3-5230-4b60-8d87-c86ab94eb0ee"
      },
      "outputs": [],
      "source": [
        "history=model.fit(train_tf_dataset,batch_size=512,\n",
        "                        validation_data=test_tf_dataset,\n",
        "                        epochs=30, callbacks=[tensorboard,checkpoint],\n",
        "                        shuffle=True)"
      ]
    },
    {
      "attachments": {},
      "cell_type": "markdown",
      "metadata": {},
      "source": [
        "# Visualize the training process"
      ]
    },
    {
      "cell_type": "code",
      "execution_count": null,
      "metadata": {
        "id": "IS5f81ILfnF_"
      },
      "outputs": [],
      "source": [
        "train_loss = history.history['loss']\n",
        "test_loss = history.history['val_loss']\n",
        "train_accuracy = history.history['accuracy']\n",
        "test_accuracy = history.history['val_accuracy']"
      ]
    },
    {
      "cell_type": "code",
      "execution_count": null,
      "metadata": {
        "id": "Tw5Bhfhcuzsy"
      },
      "outputs": [],
      "source": [
        "# Plotting a line chart to visualize the loss and accuracy values by epochs.\n",
        "\n",
        "import matplotlib.pyplot as plt\n",
        "fig, ax = plt.subplots(ncols=2, figsize=(15,7))\n",
        "\n",
        "ax = ax.ravel()\n",
        "\n",
        "ax[0].plot(train_loss, label='Train Loss', color='royalblue', marker='o', markersize=5)\n",
        "ax[0].plot(test_loss, label='Test Loss', color = 'orangered', marker='o', markersize=5)\n",
        "\n",
        "ax[0].set_xlabel('Epochs', fontsize=14)\n",
        "ax[0].set_ylabel('Categorical Crossentropy', fontsize=14)\n",
        "\n",
        "ax[0].legend(fontsize=14)\n",
        "ax[0].tick_params(axis='both', labelsize=12)\n",
        "\n",
        "ax[1].plot(train_accuracy, label='Train Accuracy', color='royalblue', marker='o', markersize=5)\n",
        "ax[1].plot(test_accuracy, label='Test Accuracy', color='orangered', marker='o', markersize=5)\n",
        "\n",
        "ax[1].set_xlabel('Epochs', fontsize=14)\n",
        "ax[1].set_ylabel('Accuracy', fontsize=14)\n",
        "\n",
        "ax[1].legend(fontsize=14)\n",
        "ax[1].tick_params(axis='both', labelsize=12)\n",
        "\n",
        "fig.suptitle(x=0.5, y=0.92, t=\"Lineplots showing loss and accuracy of CNN model by epochs\", fontsize=16)\n"
      ]
    },
    {
      "attachments": {},
      "cell_type": "markdown",
      "metadata": {},
      "source": [
        "# Evaluate model"
      ]
    },
    {
      "cell_type": "code",
      "execution_count": null,
      "metadata": {
        "id": "pjhTHbgtu3n-"
      },
      "outputs": [],
      "source": [
        "\n",
        "final_cnn_score = model.evaluate(test_tf_dataset, verbose=1)\n"
      ]
    },
    {
      "cell_type": "code",
      "execution_count": null,
      "metadata": {
        "id": "XzFVvC_go8h4"
      },
      "outputs": [],
      "source": [
        "from google.colab import runtime\n",
        "runtime.unassign()"
      ]
    },
    {
      "cell_type": "code",
      "execution_count": null,
      "metadata": {
        "id": "-ONhbYx9OFvE"
      },
      "outputs": [],
      "source": []
    }
  ],
  "metadata": {
    "accelerator": "GPU",
    "colab": {
      "provenance": []
    },
    "kernelspec": {
      "display_name": "Python 3",
      "name": "python3"
    },
    "language_info": {
      "name": "python"
    }
  },
  "nbformat": 4,
  "nbformat_minor": 0
}
