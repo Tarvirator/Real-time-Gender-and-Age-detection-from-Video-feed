{
 "cells": [
  {
   "cell_type": "code",
   "execution_count": 1,
   "metadata": {},
   "outputs": [],
   "source": [
    "import os\n",
    "import pandas as pd\n",
    "from zipfile import ZipFile\n",
    "import numpy as np\n",
    "from sklearn.utils import shuffle\n",
    "from sklearn.model_selection import train_test_split\n",
    "import cv2\n",
    "from scipy import ndimage"
   ]
  },
  {
   "cell_type": "code",
   "execution_count": 2,
   "metadata": {},
   "outputs": [
    {
     "data": {
      "text/plain": [
       "33453"
      ]
     },
     "execution_count": 2,
     "metadata": {},
     "output_type": "execute_result"
    }
   ],
   "source": [
    "combined_faces_path = \"C:/Users/shahr/Downloads/Compressed/combined_faces/content/combined_faces\"\n",
    "combined_faces_image_names = os.listdir(combined_faces_path)\n",
    "len(combined_faces_image_names)"
   ]
  },
  {
   "cell_type": "code",
   "execution_count": 3,
   "metadata": {},
   "outputs": [],
   "source": [
    "# Defining a function to return the class labels corresponding to the age-ranges shown above.\n",
    "\n",
    "def class_labels(age):\n",
    "    if 1 <= age <= 3:\n",
    "        return 0\n",
    "    elif 4 <= age <= 10:\n",
    "        return 1\n",
    "    elif 11 <= age <= 19:\n",
    "        return 2\n",
    "    elif 20 <= age <= 35:\n",
    "        return 3\n",
    "    elif 36 <= age <= 50:\n",
    "        return 4\n",
    "    elif 51 <= age <= 65:\n",
    "        return 5\n",
    "    else:\n",
    "        return 6"
   ]
  },
  {
   "cell_type": "code",
   "execution_count": 4,
   "metadata": {},
   "outputs": [
    {
     "data": {
      "text/html": [
       "<div>\n",
       "<style scoped>\n",
       "    .dataframe tbody tr th:only-of-type {\n",
       "        vertical-align: middle;\n",
       "    }\n",
       "\n",
       "    .dataframe tbody tr th {\n",
       "        vertical-align: top;\n",
       "    }\n",
       "\n",
       "    .dataframe thead th {\n",
       "        text-align: right;\n",
       "    }\n",
       "</style>\n",
       "<table border=\"1\" class=\"dataframe\">\n",
       "  <thead>\n",
       "    <tr style=\"text-align: right;\">\n",
       "      <th></th>\n",
       "      <th>filename</th>\n",
       "      <th>age</th>\n",
       "      <th>age_class</th>\n",
       "    </tr>\n",
       "  </thead>\n",
       "  <tbody>\n",
       "    <tr>\n",
       "      <th>0</th>\n",
       "      <td>100_1.jpg</td>\n",
       "      <td>100</td>\n",
       "      <td>6</td>\n",
       "    </tr>\n",
       "    <tr>\n",
       "      <th>1</th>\n",
       "      <td>100_10.jpg</td>\n",
       "      <td>100</td>\n",
       "      <td>6</td>\n",
       "    </tr>\n",
       "    <tr>\n",
       "      <th>2</th>\n",
       "      <td>100_11.jpg</td>\n",
       "      <td>100</td>\n",
       "      <td>6</td>\n",
       "    </tr>\n",
       "    <tr>\n",
       "      <th>3</th>\n",
       "      <td>100_12.jpg</td>\n",
       "      <td>100</td>\n",
       "      <td>6</td>\n",
       "    </tr>\n",
       "    <tr>\n",
       "      <th>4</th>\n",
       "      <td>100_13.jpg</td>\n",
       "      <td>100</td>\n",
       "      <td>6</td>\n",
       "    </tr>\n",
       "  </tbody>\n",
       "</table>\n",
       "</div>"
      ],
      "text/plain": [
       "     filename  age  age_class\n",
       "0   100_1.jpg  100          6\n",
       "1  100_10.jpg  100          6\n",
       "2  100_11.jpg  100          6\n",
       "3  100_12.jpg  100          6\n",
       "4  100_13.jpg  100          6"
      ]
     },
     "execution_count": 4,
     "metadata": {},
     "output_type": "execute_result"
    }
   ],
   "source": [
    "# Creating a new dataframe to hold all filenames, corresponding ages and class labels.\n",
    "\n",
    "master_df = pd.DataFrame()\n",
    "master_df['filename'] = combined_faces_image_names\n",
    "master_df['age'] = master_df['filename'].map(lambda img_name : np.uint8(img_name.split(\"_\")[0]))\n",
    "master_df['age_class'] = master_df['age'].map(class_labels)\n",
    "\n",
    "master_df.head()"
   ]
  },
  {
   "cell_type": "code",
   "execution_count": 5,
   "metadata": {},
   "outputs": [
    {
     "data": {
      "text/plain": [
       "3    12625\n",
       "4     5205\n",
       "5     4194\n",
       "0     3747\n",
       "6     2691\n",
       "1     2538\n",
       "2     2453\n",
       "Name: age_class, dtype: int64"
      ]
     },
     "execution_count": 5,
     "metadata": {},
     "output_type": "execute_result"
    }
   ],
   "source": [
    "master_df[\"age_class\"].value_counts()"
   ]
  },
  {
   "cell_type": "code",
   "execution_count": 20,
   "metadata": {},
   "outputs": [
    {
     "data": {
      "text/html": [
       "<div>\n",
       "<style scoped>\n",
       "    .dataframe tbody tr th:only-of-type {\n",
       "        vertical-align: middle;\n",
       "    }\n",
       "\n",
       "    .dataframe tbody tr th {\n",
       "        vertical-align: top;\n",
       "    }\n",
       "\n",
       "    .dataframe thead th {\n",
       "        text-align: right;\n",
       "    }\n",
       "</style>\n",
       "<table border=\"1\" class=\"dataframe\">\n",
       "  <thead>\n",
       "    <tr style=\"text-align: right;\">\n",
       "      <th></th>\n",
       "      <th>filename</th>\n",
       "      <th>age</th>\n",
       "      <th>age_class</th>\n",
       "    </tr>\n",
       "  </thead>\n",
       "  <tbody>\n",
       "    <tr>\n",
       "      <th>0</th>\n",
       "      <td>96_19.jpg</td>\n",
       "      <td>96</td>\n",
       "      <td>6</td>\n",
       "    </tr>\n",
       "    <tr>\n",
       "      <th>1</th>\n",
       "      <td>30_804.jpg</td>\n",
       "      <td>30</td>\n",
       "      <td>3</td>\n",
       "    </tr>\n",
       "    <tr>\n",
       "      <th>2</th>\n",
       "      <td>65_80.jpg</td>\n",
       "      <td>65</td>\n",
       "      <td>5</td>\n",
       "    </tr>\n",
       "    <tr>\n",
       "      <th>3</th>\n",
       "      <td>62_68.jpg</td>\n",
       "      <td>62</td>\n",
       "      <td>5</td>\n",
       "    </tr>\n",
       "    <tr>\n",
       "      <th>4</th>\n",
       "      <td>61_118.jpg</td>\n",
       "      <td>61</td>\n",
       "      <td>5</td>\n",
       "    </tr>\n",
       "  </tbody>\n",
       "</table>\n",
       "</div>"
      ],
      "text/plain": [
       "     filename  age  age_class\n",
       "0   96_19.jpg   96          6\n",
       "1  30_804.jpg   30          3\n",
       "2   65_80.jpg   65          5\n",
       "3   62_68.jpg   62          5\n",
       "4  61_118.jpg   61          5"
      ]
     },
     "execution_count": 20,
     "metadata": {},
     "output_type": "execute_result"
    }
   ],
   "source": [
    "# Shuffling the rows of combined_df so as to mix together the rows coming from both subreddit datasets.\n",
    "\n",
    "master_df = shuffle(master_df, random_state=42).reset_index(drop=True)\n",
    "master_df.head()"
   ]
  },
  {
   "cell_type": "code",
   "execution_count": 21,
   "metadata": {},
   "outputs": [],
   "source": [
    "X = master_df[['filename', 'age']]\n",
    "y = master_df['age_class']"
   ]
  },
  {
   "cell_type": "code",
   "execution_count": 22,
   "metadata": {},
   "outputs": [],
   "source": [
    "# Splitting the dataset into training and testing datasets with test_size=0.3 and stratify=y. \n",
    "\n",
    "X_train, X_test, y_train, y_test = train_test_split(X, y, test_size=0.3, stratify=y, random_state=42)"
   ]
  },
  {
   "cell_type": "code",
   "execution_count": 23,
   "metadata": {},
   "outputs": [
    {
     "name": "stdout",
     "output_type": "stream",
     "text": [
      "(23417, 2)\n",
      "(10036, 2)\n"
     ]
    }
   ],
   "source": [
    "print(X_train.shape)\n",
    "print(X_test.shape)"
   ]
  },
  {
   "cell_type": "code",
   "execution_count": 24,
   "metadata": {},
   "outputs": [],
   "source": [
    "temp_X_train = X_train.copy()\n",
    "temp_X_train['age_class'] = y_train\n",
    "\n",
    "temp_X_test = X_test.copy()\n",
    "temp_X_test['age_class'] = y_test"
   ]
  },
  {
   "cell_type": "code",
   "execution_count": 25,
   "metadata": {},
   "outputs": [],
   "source": [
    "combined_faces_path = \"./combined_faces/content/combined_faces/\"\n",
    "\n",
    "def append_path_to_filename(filename):\n",
    "    return os.path.join(combined_faces_path, filename)"
   ]
  },
  {
   "cell_type": "code",
   "execution_count": 26,
   "metadata": {},
   "outputs": [],
   "source": [
    "temp_X_train['filename'] = temp_X_train['filename'].map(append_path_to_filename)\n",
    "temp_X_test['filename'] = temp_X_test['filename'].map(append_path_to_filename)"
   ]
  },
  {
   "cell_type": "code",
   "execution_count": 27,
   "metadata": {},
   "outputs": [],
   "source": [
    "# Exporting the above created dataframes as CSV files.\n",
    "\n",
    "temp_X_train.to_csv(\"images_filenames_labels_train.csv\", index=False)\n",
    "temp_X_test.to_csv(\"images_filenames_labels_test.csv\", index=False)"
   ]
  },
  {
   "cell_type": "code",
   "execution_count": 28,
   "metadata": {},
   "outputs": [],
   "source": [
    "td=pd.read_csv(\"images_filenames_labels_train.csv\")\n",
    "ts=pd.read_csv(\"images_filenames_labels_test.csv\")\n",
    "tdl=list(td[\"filename\"])\n",
    "tsl=list(ts[\"filename\"])"
   ]
  },
  {
   "attachments": {},
   "cell_type": "markdown",
   "metadata": {},
   "source": [
    "### Rotation Augmentaion"
   ]
  },
  {
   "cell_type": "code",
   "execution_count": 30,
   "metadata": {},
   "outputs": [
    {
     "data": {
      "text/plain": [
       "(23417, 3)"
      ]
     },
     "execution_count": 30,
     "metadata": {},
     "output_type": "execute_result"
    }
   ],
   "source": [
    "train_df = pd.read_csv(\"images_filenames_labels_train.csv\")\n",
    "train_df.shape"
   ]
  },
  {
   "cell_type": "code",
   "execution_count": 31,
   "metadata": {},
   "outputs": [
    {
     "data": {
      "text/html": [
       "<div>\n",
       "<style scoped>\n",
       "    .dataframe tbody tr th:only-of-type {\n",
       "        vertical-align: middle;\n",
       "    }\n",
       "\n",
       "    .dataframe tbody tr th {\n",
       "        vertical-align: top;\n",
       "    }\n",
       "\n",
       "    .dataframe thead th {\n",
       "        text-align: right;\n",
       "    }\n",
       "</style>\n",
       "<table border=\"1\" class=\"dataframe\">\n",
       "  <thead>\n",
       "    <tr style=\"text-align: right;\">\n",
       "      <th></th>\n",
       "      <th>filename</th>\n",
       "      <th>age</th>\n",
       "      <th>age_class</th>\n",
       "    </tr>\n",
       "  </thead>\n",
       "  <tbody>\n",
       "  </tbody>\n",
       "</table>\n",
       "</div>"
      ],
      "text/plain": [
       "Empty DataFrame\n",
       "Columns: [filename, age, age_class]\n",
       "Index: []"
      ]
     },
     "execution_count": 31,
     "metadata": {},
     "output_type": "execute_result"
    }
   ],
   "source": [
    "train_aug_df = pd.DataFrame(columns=train_df.columns)\n",
    "train_aug_df"
   ]
  },
  {
   "cell_type": "code",
   "execution_count": 32,
   "metadata": {},
   "outputs": [],
   "source": [
    "os.mkdir(\"combined_faces_train_augmented_rottaion\")\n",
    "new_path = \"./combined_faces_train_augmented_rottaion\""
   ]
  },
  {
   "cell_type": "code",
   "execution_count": 33,
   "metadata": {},
   "outputs": [],
   "source": [
    "# # Running a for-loop through all the images in train_df and augmenting them.\n",
    "\n",
    "# for i in range(train_df.shape[0]):\n",
    "\n",
    "#     # Reading the image filepath, name, age and target values.\n",
    "#     img_path = train_df.loc[i, 'filename']\n",
    "#     img_name = img_path.split(\"/\")[-1]\n",
    "#     img_age = train_df.loc[i, 'age']\n",
    "#     img_target = train_df.loc[i, 'age_class']\n",
    "\n",
    "#     # Reading the image from the filepath and converting it to proper colour format in cv2.\n",
    "#     img = cv2.imread(img_path)\n",
    "#     img = cv2.cvtColor(img, cv2.COLOR_RGB2BGR)\n",
    "\n",
    "#     # Creating the augmented versions of the image as shown above.\n",
    "#     img_rot_pos40 = ndimage.rotate(img, 40, reshape=False)\n",
    "#     img_rot_pos20 = ndimage.rotate(img, 20, reshape=False)\n",
    "#     img_rot_neg20 = ndimage.rotate(img, -20, reshape=False)\n",
    "#     img_rot_neg40 = ndimage.rotate(img, -40, reshape=False)\n",
    "#     img_fliplr = np.fliplr(img)\n",
    "#     img_fliplr_rot_pos40 = ndimage.rotate(img_fliplr, 40, reshape=False)\n",
    "#     img_fliplr_rot_pos20 = ndimage.rotate(img_fliplr, 20, reshape=False)\n",
    "#     img_fliplr_rot_neg20 = ndimage.rotate(img_fliplr, -20, reshape=False)\n",
    "#     img_fliplr_rot_neg40 = ndimage.rotate(img_fliplr, -40, reshape=False)\n",
    "\n",
    "#     # Creating new image names for the augmented images.\n",
    "#     img_name_wo_jpg = img_name.split(\".\")[0]\n",
    "#     img_name2 = img_name_wo_jpg+\"_rot_pos40.jpg\"\n",
    "#     img_name3 = img_name_wo_jpg+\"_rot_pos20.jpg\"\n",
    "#     img_name4 = img_name_wo_jpg+\"_rot_neg20.jpg\"\n",
    "#     img_name5 = img_name_wo_jpg+\"_rot_neg40.jpg\"\n",
    "#     img_name6 = img_name_wo_jpg+\"_fliplr.jpg\"\n",
    "#     img_name7 = img_name_wo_jpg+\"_fliplr_rot_pos40.jpg\"\n",
    "#     img_name8 = img_name_wo_jpg+\"_fliplr_rot_pos20.jpg\"\n",
    "#     img_name9 = img_name_wo_jpg+\"_fliplr_rot_neg20.jpg\"\n",
    "#     img_name10 = img_name_wo_jpg+\"_fliplr_rot_neg40.jpg\"\n",
    "\n",
    "#     # Saving the original image and all the augmented images into a new folder combined_faces_train_augmented.\n",
    "#     img_dest1 = os.path.join(new_path, img_name)\n",
    "#     cv2.imwrite(img_dest1, img, [int(cv2.IMWRITE_JPEG_QUALITY), 100])\n",
    "#     img_dest2 = os.path.join(new_path, img_name2)\n",
    "#     cv2.imwrite(img_dest2, img_rot_pos40, [int(cv2.IMWRITE_JPEG_QUALITY), 100])\n",
    "#     img_dest3 = os.path.join(new_path, img_name3)\n",
    "#     cv2.imwrite(img_dest3, img_rot_pos20, [int(cv2.IMWRITE_JPEG_QUALITY), 100])\n",
    "#     img_dest4 = os.path.join(new_path, img_name4)\n",
    "#     cv2.imwrite(img_dest4, img_rot_neg20, [int(cv2.IMWRITE_JPEG_QUALITY), 100])\n",
    "#     img_dest5 = os.path.join(new_path, img_name5)\n",
    "#     cv2.imwrite(img_dest5, img_rot_neg40, [int(cv2.IMWRITE_JPEG_QUALITY), 100])\n",
    "#     img_dest6 = os.path.join(new_path, img_name6)\n",
    "#     cv2.imwrite(img_dest6, img_fliplr, [int(cv2.IMWRITE_JPEG_QUALITY), 100])\n",
    "#     img_dest7 = os.path.join(new_path, img_name7)\n",
    "#     cv2.imwrite(img_dest7, img_fliplr_rot_pos40, [int(cv2.IMWRITE_JPEG_QUALITY), 100])\n",
    "#     img_dest8 = os.path.join(new_path, img_name8)\n",
    "#     cv2.imwrite(img_dest8, img_fliplr_rot_pos20, [int(cv2.IMWRITE_JPEG_QUALITY), 100])\n",
    "#     img_dest9 = os.path.join(new_path, img_name9)\n",
    "#     cv2.imwrite(img_dest9, img_fliplr_rot_neg20, [int(cv2.IMWRITE_JPEG_QUALITY), 100])\n",
    "#     img_dest10 = os.path.join(new_path, img_name10)\n",
    "#     cv2.imwrite(img_dest10, img_fliplr_rot_neg40, [int(cv2.IMWRITE_JPEG_QUALITY), 100])\n",
    "\n",
    "#     # Creating a new temp_df for the augmented images (similar to train_df).\n",
    "#     temp_df = pd.DataFrame(columns=train_df.columns)\n",
    "#     temp_df.loc[1] = [\"/content\"+img_dest1, img_age, img_target]\n",
    "#     temp_df.loc[2] = [\"/content\"+img_dest2, img_age, img_target]\n",
    "#     temp_df.loc[3] = [\"/content\"+img_dest3, img_age, img_target]\n",
    "#     temp_df.loc[4] = [\"/content\"+img_dest4, img_age, img_target]\n",
    "#     temp_df.loc[5] = [\"/content\"+img_dest5, img_age, img_target]\n",
    "#     temp_df.loc[6] = [\"/content\"+img_dest6, img_age, img_target]\n",
    "#     temp_df.loc[7] = [\"/content\"+img_dest7, img_age, img_target]\n",
    "#     temp_df.loc[8] = [\"/content\"+img_dest8, img_age, img_target]\n",
    "#     temp_df.loc[9] = [\"/content\"+img_dest9, img_age, img_target]\n",
    "#     temp_df.loc[10] = [\"/content\"+img_dest10, img_age, img_target]\n",
    "\n",
    "#     # Concatenating temp_df with the new train_aug_df.\n",
    "#     train_aug_df = pd.concat([train_aug_df, temp_df], axis=0, ignore_index=True)\n",
    "\n",
    "#     # Keeping track of progress and printing relevant statements for the user.\n",
    "#     if (i+1) % 500 == 0:\n",
    "#         print(f\"Images augmented: {i+1} of {train_df.shape[0]}\")\n",
    "\n",
    "# print(\"\\nDone augmenting all training dataset images and saved them into combined_faces_train_augmented.\")"
   ]
  },
  {
   "cell_type": "code",
   "execution_count": 34,
   "metadata": {},
   "outputs": [
    {
     "data": {
      "text/html": [
       "<div>\n",
       "<style scoped>\n",
       "    .dataframe tbody tr th:only-of-type {\n",
       "        vertical-align: middle;\n",
       "    }\n",
       "\n",
       "    .dataframe tbody tr th {\n",
       "        vertical-align: top;\n",
       "    }\n",
       "\n",
       "    .dataframe thead th {\n",
       "        text-align: right;\n",
       "    }\n",
       "</style>\n",
       "<table border=\"1\" class=\"dataframe\">\n",
       "  <thead>\n",
       "    <tr style=\"text-align: right;\">\n",
       "      <th></th>\n",
       "      <th>filename</th>\n",
       "      <th>age</th>\n",
       "      <th>age_class</th>\n",
       "    </tr>\n",
       "  </thead>\n",
       "  <tbody>\n",
       "  </tbody>\n",
       "</table>\n",
       "</div>"
      ],
      "text/plain": [
       "Empty DataFrame\n",
       "Columns: [filename, age, age_class]\n",
       "Index: []"
      ]
     },
     "execution_count": 34,
     "metadata": {},
     "output_type": "execute_result"
    }
   ],
   "source": [
    "train_aug_df.head()"
   ]
  },
  {
   "cell_type": "code",
   "execution_count": 36,
   "metadata": {},
   "outputs": [
    {
     "name": "stdout",
     "output_type": "stream",
     "text": [
      "(23417, 3)\n",
      "(0, 3)\n"
     ]
    }
   ],
   "source": [
    "print(train_df.shape)\n",
    "print(train_aug_df.shape)"
   ]
  },
  {
   "cell_type": "code",
   "execution_count": 37,
   "metadata": {},
   "outputs": [],
   "source": [
    "# Shuffling the augmented training dataset.\n",
    "\n",
    "train_aug_df = shuffle(train_aug_df).reset_index(drop=True)"
   ]
  },
  {
   "cell_type": "code",
   "execution_count": 38,
   "metadata": {},
   "outputs": [],
   "source": [
    "train_aug_df.to_csv(\"images_filenames_labels_train_augmented.csv\", index=False)"
   ]
  },
  {
   "attachments": {},
   "cell_type": "markdown",
   "metadata": {},
   "source": [
    "### DataGen Augmentation"
   ]
  },
  {
   "cell_type": "code",
   "execution_count": 40,
   "metadata": {},
   "outputs": [
    {
     "data": {
      "text/html": [
       "<div>\n",
       "<style scoped>\n",
       "    .dataframe tbody tr th:only-of-type {\n",
       "        vertical-align: middle;\n",
       "    }\n",
       "\n",
       "    .dataframe tbody tr th {\n",
       "        vertical-align: top;\n",
       "    }\n",
       "\n",
       "    .dataframe thead th {\n",
       "        text-align: right;\n",
       "    }\n",
       "</style>\n",
       "<table border=\"1\" class=\"dataframe\">\n",
       "  <thead>\n",
       "    <tr style=\"text-align: right;\">\n",
       "      <th></th>\n",
       "      <th>filename</th>\n",
       "      <th>age</th>\n",
       "      <th>age_class</th>\n",
       "    </tr>\n",
       "  </thead>\n",
       "  <tbody>\n",
       "    <tr>\n",
       "      <th>0</th>\n",
       "      <td>./combined_faces/content/combined_faces/8_236.jpg</td>\n",
       "      <td>8</td>\n",
       "      <td>1</td>\n",
       "    </tr>\n",
       "    <tr>\n",
       "      <th>1</th>\n",
       "      <td>./combined_faces/content/combined_faces/25_451...</td>\n",
       "      <td>25</td>\n",
       "      <td>3</td>\n",
       "    </tr>\n",
       "    <tr>\n",
       "      <th>2</th>\n",
       "      <td>./combined_faces/content/combined_faces/16_229...</td>\n",
       "      <td>16</td>\n",
       "      <td>2</td>\n",
       "    </tr>\n",
       "    <tr>\n",
       "      <th>3</th>\n",
       "      <td>./combined_faces/content/combined_faces/24_120...</td>\n",
       "      <td>24</td>\n",
       "      <td>3</td>\n",
       "    </tr>\n",
       "    <tr>\n",
       "      <th>4</th>\n",
       "      <td>./combined_faces/content/combined_faces/59_14.jpg</td>\n",
       "      <td>59</td>\n",
       "      <td>5</td>\n",
       "    </tr>\n",
       "  </tbody>\n",
       "</table>\n",
       "</div>"
      ],
      "text/plain": [
       "                                            filename  age  age_class\n",
       "0  ./combined_faces/content/combined_faces/8_236.jpg    8          1\n",
       "1  ./combined_faces/content/combined_faces/25_451...   25          3\n",
       "2  ./combined_faces/content/combined_faces/16_229...   16          2\n",
       "3  ./combined_faces/content/combined_faces/24_120...   24          3\n",
       "4  ./combined_faces/content/combined_faces/59_14.jpg   59          5"
      ]
     },
     "execution_count": 40,
     "metadata": {},
     "output_type": "execute_result"
    }
   ],
   "source": [
    "trainsetdata=pd.read_csv(\"images_filenames_labels_train.csv\")\n",
    "trainsetdata.head()"
   ]
  },
  {
   "cell_type": "code",
   "execution_count": 41,
   "metadata": {},
   "outputs": [
    {
     "data": {
      "text/html": [
       "<div>\n",
       "<style scoped>\n",
       "    .dataframe tbody tr th:only-of-type {\n",
       "        vertical-align: middle;\n",
       "    }\n",
       "\n",
       "    .dataframe tbody tr th {\n",
       "        vertical-align: top;\n",
       "    }\n",
       "\n",
       "    .dataframe thead th {\n",
       "        text-align: right;\n",
       "    }\n",
       "</style>\n",
       "<table border=\"1\" class=\"dataframe\">\n",
       "  <thead>\n",
       "    <tr style=\"text-align: right;\">\n",
       "      <th></th>\n",
       "      <th>filename</th>\n",
       "      <th>age</th>\n",
       "      <th>age_class</th>\n",
       "      <th>img_name</th>\n",
       "    </tr>\n",
       "  </thead>\n",
       "  <tbody>\n",
       "    <tr>\n",
       "      <th>0</th>\n",
       "      <td>./combined_faces/content/combined_faces/8_236.jpg</td>\n",
       "      <td>8</td>\n",
       "      <td>1</td>\n",
       "      <td>8_236.jpg</td>\n",
       "    </tr>\n",
       "    <tr>\n",
       "      <th>1</th>\n",
       "      <td>./combined_faces/content/combined_faces/25_451...</td>\n",
       "      <td>25</td>\n",
       "      <td>3</td>\n",
       "      <td>25_451.jpg</td>\n",
       "    </tr>\n",
       "    <tr>\n",
       "      <th>2</th>\n",
       "      <td>./combined_faces/content/combined_faces/16_229...</td>\n",
       "      <td>16</td>\n",
       "      <td>2</td>\n",
       "      <td>16_229.jpg</td>\n",
       "    </tr>\n",
       "    <tr>\n",
       "      <th>3</th>\n",
       "      <td>./combined_faces/content/combined_faces/24_120...</td>\n",
       "      <td>24</td>\n",
       "      <td>3</td>\n",
       "      <td>24_120.jpg</td>\n",
       "    </tr>\n",
       "    <tr>\n",
       "      <th>4</th>\n",
       "      <td>./combined_faces/content/combined_faces/59_14.jpg</td>\n",
       "      <td>59</td>\n",
       "      <td>5</td>\n",
       "      <td>59_14.jpg</td>\n",
       "    </tr>\n",
       "  </tbody>\n",
       "</table>\n",
       "</div>"
      ],
      "text/plain": [
       "                                            filename  age  age_class  \\\n",
       "0  ./combined_faces/content/combined_faces/8_236.jpg    8          1   \n",
       "1  ./combined_faces/content/combined_faces/25_451...   25          3   \n",
       "2  ./combined_faces/content/combined_faces/16_229...   16          2   \n",
       "3  ./combined_faces/content/combined_faces/24_120...   24          3   \n",
       "4  ./combined_faces/content/combined_faces/59_14.jpg   59          5   \n",
       "\n",
       "     img_name  \n",
       "0   8_236.jpg  \n",
       "1  25_451.jpg  \n",
       "2  16_229.jpg  \n",
       "3  24_120.jpg  \n",
       "4   59_14.jpg  "
      ]
     },
     "execution_count": 41,
     "metadata": {},
     "output_type": "execute_result"
    }
   ],
   "source": [
    "trainsetdata[\"img_name\"]=trainsetdata[\"filename\"].map(lambda x: x.split(\"/\")[4])\n",
    "trainsetdata.head()"
   ]
  },
  {
   "cell_type": "code",
   "execution_count": 42,
   "metadata": {},
   "outputs": [
    {
     "data": {
      "text/plain": [
       "'./combined_faces/content/combined_faces/8_236.jpg'"
      ]
     },
     "execution_count": 42,
     "metadata": {},
     "output_type": "execute_result"
    }
   ],
   "source": [
    "trainsetdata[\"filename\"][0]"
   ]
  },
  {
   "cell_type": "code",
   "execution_count": 43,
   "metadata": {},
   "outputs": [
    {
     "data": {
      "text/plain": [
       "['8_236.jpg', '25_451.jpg', '16_229.jpg', '24_120.jpg', '59_14.jpg']"
      ]
     },
     "execution_count": 43,
     "metadata": {},
     "output_type": "execute_result"
    }
   ],
   "source": [
    "train_img_names=list(trainsetdata[\"img_name\"])\n",
    "train_img_names[0:5]"
   ]
  },
  {
   "cell_type": "code",
   "execution_count": 33,
   "metadata": {},
   "outputs": [],
   "source": [
    "#make directory is aug src folder\n",
    "\n",
    "org_image_names=os.listdir(\"./combined_faces_refined/combined_faces/content/combined_faces/\")\n",
    "\n",
    "ages=[]\n",
    "\n",
    "for i in org_image_names:  \n",
    "    age=i.split(\"_\")[0]\n",
    "    if age not in ages:\n",
    "        ages.append(age)\n",
    "len(ages)\n",
    "\n",
    "path=\"Source_images\"\n",
    "\n",
    "for i in ages:\n",
    "    os.mkdir(os.path.join(path,i))\n"
   ]
  },
  {
   "cell_type": "code",
   "execution_count": 34,
   "metadata": {},
   "outputs": [
    {
     "data": {
      "text/plain": [
       "['./combined_faces_refined/combined_faces/content/combined_faces/25_873.jpg',\n",
       " './combined_faces_refined/combined_faces/content/combined_faces/58_98.jpg',\n",
       " './combined_faces_refined/combined_faces/content/combined_faces/80_160.jpg',\n",
       " './combined_faces_refined/combined_faces/content/combined_faces/4_382.jpg',\n",
       " './combined_faces_refined/combined_faces/content/combined_faces/45_365.jpg']"
      ]
     },
     "execution_count": 34,
     "metadata": {},
     "output_type": "execute_result"
    }
   ],
   "source": [
    "#copy the train set files to aug src folders\n",
    "\n",
    "org_image_names_with_path=[]\n",
    "src_dir=\"./combined_faces_refined/combined_faces/content/combined_faces/\"\n",
    "for i in train_img_names:\n",
    "    org_image_names_with_path.append(src_dir+i)\n",
    "org_image_names_with_path[0:5]"
   ]
  },
  {
   "cell_type": "code",
   "execution_count": 35,
   "metadata": {},
   "outputs": [],
   "source": [
    "import shutil\n",
    "\n",
    "for i in org_image_names_with_path:\n",
    "    filename=i.split(\"/\")[5]\n",
    "    age=filename.split(\"_\")[0]\n",
    "    target=\"./Source_images/\"+age+\"/\"+filename\n",
    "    shutil.copyfile(i,target)\n",
    "\n"
   ]
  },
  {
   "cell_type": "code",
   "execution_count": 45,
   "metadata": {},
   "outputs": [],
   "source": [
    "#create the same age directories inside augmented folder\n",
    "src=\"C:/Users/shahr/Downloads/Compressed/Augmented\"\n",
    "folders=[\"1-3\",\"4-10\",\"11-19\",\"20-35\",\"36-50\",\"51-65\",\"65+\"]\n",
    "\n",
    "for i in folders:\n",
    "    path=os.path.join(src,i)\n",
    "    if os.path.exists(path):\n",
    "        continue\n",
    "    else:\n",
    "        os.makedirs(path)"
   ]
  },
  {
   "cell_type": "code",
   "execution_count": 38,
   "metadata": {},
   "outputs": [],
   "source": [
    "from keras.preprocessing.image import ImageDataGenerator\n",
    "from scipy import io \n",
    "\n",
    "datagen=ImageDataGenerator(\n",
    "    rotation_range=20,\n",
    "    width_shift_range=0.2,\n",
    "    height_shift_range=0.2,\n",
    "    brightness_range=[0.2,1],\n",
    "    zoom_range=0.2,\n",
    "    horizontal_flip=True,\n",
    "    fill_mode=\"nearest\"\n",
    " )\n"
   ]
  },
  {
   "cell_type": "code",
   "execution_count": 44,
   "metadata": {},
   "outputs": [],
   "source": [
    "import numpy as np \n",
    "import os\n",
    "from PIL import Image as img\n",
    "import skimage\n",
    "\n",
    "for j in dir_in_src:\n",
    "    image_dir=\"./Source_images/\"+j+\"/\"\n",
    "    dest_dir=\"./Aug_images/\"+j+\"/\"\n",
    "    prefix=\"aug_\"+j+\"_\"\n",
    "    size=200\n",
    "    dataset=[]\n",
    "\n",
    "    my_images=os.listdir(image_dir)\n",
    "    for i,image_name in enumerate(my_images):\n",
    "        if(image_name.split(\".\")[1]==\"jpg\"):\n",
    "            image=skimage.io.imread(image_dir+image_name)\n",
    "            image=img.fromarray(image,\"RGB\")\n",
    "            dataset.append(np.array(image))\n",
    "    x=np.array(dataset)\n",
    "\n",
    "    i=1\n",
    "    for batch in datagen.flow(x,batch_size=256,\n",
    "                            save_to_dir=dest_dir,\n",
    "                            save_prefix=prefix, \n",
    "                            save_format=\"jpg\"):\n",
    "        i+=1\n",
    "        if i>15:\n",
    "            break"
   ]
  },
  {
   "cell_type": "code",
   "execution_count": 53,
   "metadata": {},
   "outputs": [],
   "source": [
    "aug_dirs=os.listdir('./Aug_images/')\n",
    "filenames=[]\n",
    "for i in aug_dirs:\n",
    "    files=os.listdir(os.path.join('./Aug_images/',i))\n",
    "    for file in files:\n",
    "        name='./Aug_images/'+i+\"/\"+file\n",
    "        # print(name)\n",
    "        filenames.append(name)\n",
    "    \n"
   ]
  },
  {
   "cell_type": "code",
   "execution_count": 56,
   "metadata": {},
   "outputs": [],
   "source": [
    "for i in filenames:\n",
    "    name=i.split(\"/\")[3]\n",
    "    target=\"./combined_faces_train_augmented_rottaion/\"+name\n",
    "    shutil.copy(i,target)"
   ]
  },
  {
   "cell_type": "code",
   "execution_count": 57,
   "metadata": {},
   "outputs": [],
   "source": [
    "def extract_age(x):\n",
    "    parts=x.split(\"_\")\n",
    "    if parts[0]==\"aug\":\n",
    "        return int(parts[1])\n",
    "    else:\n",
    "        return int(parts[0])\n"
   ]
  },
  {
   "cell_type": "code",
   "execution_count": 69,
   "metadata": {},
   "outputs": [],
   "source": [
    "final_aug_img_names=os.listdir(\"combined_faces_train_augmented_rottaion\")\n",
    "final_aug_img_df = pd.DataFrame()\n",
    "final_aug_img_df['filename'] = final_aug_img_names\n",
    "final_aug_img_df['age'] = final_aug_img_df['filename'].map(extract_age)\n",
    "final_aug_img_df['age_class'] = final_aug_img_df['age'].map(class_labels)\n",
    "\n",
    "final_aug_img_df['filename']=final_aug_img_df['filename'].map(lambda x: \"/content/combined_faces_train_augmented_rottaion/\"+x)\n",
    "\n",
    "final_aug_img_df.to_csv(\"images_filenames_labels_train_augmented_mega.csv\",index=False)"
   ]
  },
  {
   "cell_type": "code",
   "execution_count": 70,
   "metadata": {},
   "outputs": [],
   "source": [
    "test_set=pd.read_csv(\"images_filenames_labels_test.csv\")\n",
    "test_set[\"filename\"]=test_set[\"filename\"].map(lambda x: \"/content/\"+x)\n",
    "\n",
    "test_set.to_csv(\"images_filenames_labels_test_final.csv\",index=False)"
   ]
  }
 ],
 "metadata": {
  "kernelspec": {
   "display_name": "Python 3",
   "language": "python",
   "name": "python3"
  },
  "language_info": {
   "codemirror_mode": {
    "name": "ipython",
    "version": 3
   },
   "file_extension": ".py",
   "mimetype": "text/x-python",
   "name": "python",
   "nbconvert_exporter": "python",
   "pygments_lexer": "ipython3",
   "version": "3.8.0"
  },
  "orig_nbformat": 4
 },
 "nbformat": 4,
 "nbformat_minor": 2
}
