{
 "cells": [
  {
   "attachments": {},
   "cell_type": "markdown",
   "metadata": {},
   "source": [
    "In this notebook we'll be combining two publicly available dataset **UTKFace** and **FairFace** to create a bigger dataset and do some preprocessing to train the model"
   ]
  },
  {
   "attachments": {},
   "cell_type": "markdown",
   "metadata": {},
   "source": [
    "# Importing necessary libraries"
   ]
  },
  {
   "cell_type": "code",
   "execution_count": 2,
   "metadata": {},
   "outputs": [],
   "source": [
    "import shutil\n",
    "import pandas as pd\n",
    "import os\n",
    "import numpy as np\n",
    "from tqdm import tqdm\n",
    "from sklearn.utils import shuffle\n",
    "from sklearn.model_selection import train_test_split"
   ]
  },
  {
   "attachments": {},
   "cell_type": "markdown",
   "metadata": {},
   "source": [
    "## UTKFace"
   ]
  },
  {
   "cell_type": "code",
   "execution_count": 2,
   "metadata": {},
   "outputs": [
    {
     "data": {
      "text/plain": [
       "23702"
      ]
     },
     "execution_count": 2,
     "metadata": {},
     "output_type": "execute_result"
    }
   ],
   "source": [
    "image_names=os.listdir(\"./UTKFace\")\n",
    "len(image_names)"
   ]
  },
  {
   "cell_type": "code",
   "execution_count": 3,
   "metadata": {},
   "outputs": [
    {
     "data": {
      "text/plain": [
       "['10_0_4_20161221192738446.jpg.chip.jpg',\n",
       " '10_0_4_20170103200335831.jpg.chip.jpg',\n",
       " '10_0_4_20170103200409638.jpg.chip.jpg',\n",
       " '10_0_4_20170103200443015.jpg.chip.jpg',\n",
       " '10_0_4_20170103200501766.jpg.chip.jpg',\n",
       " '10_0_4_20170103201924664.jpg.chip.jpg',\n",
       " '10_0_4_20170103202338152.jpg.chip.jpg',\n",
       " '10_0_4_20170103212521420.jpg.chip.jpg',\n",
       " '10_0_4_20170103223451479.jpg.chip.jpg',\n",
       " '10_0_4_20170104010810728.jpg.chip.jpg']"
      ]
     },
     "execution_count": 3,
     "metadata": {},
     "output_type": "execute_result"
    }
   ],
   "source": [
    "image_names[100:110]"
   ]
  },
  {
   "attachments": {},
   "cell_type": "markdown",
   "metadata": {},
   "source": [
    "**UTKFace** image filenames contains information about the subject. For example '10_0_4_20161221192738446.jpg.chip.jpg' here 10 is the Age, then 0 means Man, here 1 would mean woman. 4 represents ethnic class, we don't need that here. "
   ]
  },
  {
   "attachments": {},
   "cell_type": "markdown",
   "metadata": {},
   "source": [
    "### Copying images of men and women into two different folders. if age is less than 3 categorize them as women regardless of the given gender."
   ]
  },
  {
   "cell_type": "code",
   "execution_count": 6,
   "metadata": {},
   "outputs": [
    {
     "name": "stderr",
     "output_type": "stream",
     "text": [
      "100%|██████████| 23702/23702 [04:19<00:00, 91.50it/s] \n"
     ]
    }
   ],
   "source": [
    "for i in tqdm(image_names):\n",
    "    if i.split(\"_\")[1]==\"0\":\n",
    "        source=\"UTKFace/\"+i\n",
    "        if int(i.split(\"_\")[0])>3:\n",
    "            target=\"Final_folder_gender/Men/\"+i\n",
    "        else:\n",
    "            target=\"Final_folder_gender/Women/\"+i\n",
    "        shutil.copy(source,target)\n",
    "    elif i.split(\"_\")[1]==\"1\":\n",
    "        source=\"UTKFace/\"+i\n",
    "        target=\"Final_folder_gender/Women/\"+i\n",
    "        shutil.copy(source,target)"
   ]
  },
  {
   "attachments": {},
   "cell_type": "markdown",
   "metadata": {},
   "source": [
    "## Fairface"
   ]
  },
  {
   "attachments": {},
   "cell_type": "markdown",
   "metadata": {},
   "source": [
    "### Read the provided csv file"
   ]
  },
  {
   "cell_type": "code",
   "execution_count": 8,
   "metadata": {},
   "outputs": [
    {
     "data": {
      "text/html": [
       "<div>\n",
       "<style scoped>\n",
       "    .dataframe tbody tr th:only-of-type {\n",
       "        vertical-align: middle;\n",
       "    }\n",
       "\n",
       "    .dataframe tbody tr th {\n",
       "        vertical-align: top;\n",
       "    }\n",
       "\n",
       "    .dataframe thead th {\n",
       "        text-align: right;\n",
       "    }\n",
       "</style>\n",
       "<table border=\"1\" class=\"dataframe\">\n",
       "  <thead>\n",
       "    <tr style=\"text-align: right;\">\n",
       "      <th></th>\n",
       "      <th>file</th>\n",
       "      <th>age</th>\n",
       "      <th>gender</th>\n",
       "      <th>race</th>\n",
       "      <th>service_test</th>\n",
       "    </tr>\n",
       "  </thead>\n",
       "  <tbody>\n",
       "    <tr>\n",
       "      <th>0</th>\n",
       "      <td>train/1.jpg</td>\n",
       "      <td>50-59</td>\n",
       "      <td>Male</td>\n",
       "      <td>East Asian</td>\n",
       "      <td>True</td>\n",
       "    </tr>\n",
       "    <tr>\n",
       "      <th>1</th>\n",
       "      <td>train/2.jpg</td>\n",
       "      <td>30-39</td>\n",
       "      <td>Female</td>\n",
       "      <td>Indian</td>\n",
       "      <td>False</td>\n",
       "    </tr>\n",
       "    <tr>\n",
       "      <th>2</th>\n",
       "      <td>train/3.jpg</td>\n",
       "      <td>3-9</td>\n",
       "      <td>Female</td>\n",
       "      <td>Black</td>\n",
       "      <td>False</td>\n",
       "    </tr>\n",
       "    <tr>\n",
       "      <th>3</th>\n",
       "      <td>train/4.jpg</td>\n",
       "      <td>20-29</td>\n",
       "      <td>Female</td>\n",
       "      <td>Indian</td>\n",
       "      <td>True</td>\n",
       "    </tr>\n",
       "    <tr>\n",
       "      <th>4</th>\n",
       "      <td>train/5.jpg</td>\n",
       "      <td>20-29</td>\n",
       "      <td>Female</td>\n",
       "      <td>Indian</td>\n",
       "      <td>True</td>\n",
       "    </tr>\n",
       "  </tbody>\n",
       "</table>\n",
       "</div>"
      ],
      "text/plain": [
       "          file    age  gender        race  service_test\n",
       "0  train/1.jpg  50-59    Male  East Asian          True\n",
       "1  train/2.jpg  30-39  Female      Indian         False\n",
       "2  train/3.jpg    3-9  Female       Black         False\n",
       "3  train/4.jpg  20-29  Female      Indian          True\n",
       "4  train/5.jpg  20-29  Female      Indian          True"
      ]
     },
     "execution_count": 8,
     "metadata": {},
     "output_type": "execute_result"
    }
   ],
   "source": [
    "Fairface_train_images_df=pd.read_csv(\"Fairface/train_labels.csv\")\n",
    "Fairface_train_images_df.head()"
   ]
  },
  {
   "cell_type": "code",
   "execution_count": 9,
   "metadata": {},
   "outputs": [],
   "source": [
    "Fairface_train_images_names=Fairface_train_images_df.file.values.tolist()\n",
    "Fairface_train_images_gender=Fairface_train_images_df.gender.values.tolist()\n",
    "Fairface_train_images_age=Fairface_train_images_df.age.values.tolist()\n"
   ]
  },
  {
   "attachments": {},
   "cell_type": "markdown",
   "metadata": {},
   "source": [
    "# images go to separate folders based on genders "
   ]
  },
  {
   "cell_type": "code",
   "execution_count": 10,
   "metadata": {},
   "outputs": [],
   "source": [
    "for i in range(len(Fairface_train_images_names)):\n",
    "    if Fairface_train_images_gender[i]==\"Male\":\n",
    "        source=\"Fairface/\"+Fairface_train_images_names[i]\n",
    "        if Fairface_train_images_age[i]==\"0-2\":\n",
    "            target=\"Final_folder_gender/Women/\"+Fairface_train_images_names[i].split(\"/\")[1]\n",
    "        else:  \n",
    "            target=\"Final_folder_gender/Men/\"+Fairface_train_images_names[i].split(\"/\")[1]\n",
    "        shutil.copy(source,target)\n",
    "    elif Fairface_train_images_gender[i]==\"Female\":\n",
    "        source=\"Fairface/\"+Fairface_train_images_names[i]\n",
    "        target=\"Final_folder_gender/Women/\"+Fairface_train_images_names[i].split(\"/\")[1]\n",
    "        shutil.copy(source,target)\n",
    "    else:\n",
    "        continue\n"
   ]
  },
  {
   "attachments": {},
   "cell_type": "markdown",
   "metadata": {},
   "source": [
    "# Main dataset "
   ]
  },
  {
   "attachments": {},
   "cell_type": "markdown",
   "metadata": {},
   "source": [
    "create a combined dataset"
   ]
  },
  {
   "cell_type": "code",
   "execution_count": 9,
   "metadata": {},
   "outputs": [
    {
     "data": {
      "text/html": [
       "<div>\n",
       "<style scoped>\n",
       "    .dataframe tbody tr th:only-of-type {\n",
       "        vertical-align: middle;\n",
       "    }\n",
       "\n",
       "    .dataframe tbody tr th {\n",
       "        vertical-align: top;\n",
       "    }\n",
       "\n",
       "    .dataframe thead th {\n",
       "        text-align: right;\n",
       "    }\n",
       "</style>\n",
       "<table border=\"1\" class=\"dataframe\">\n",
       "  <thead>\n",
       "    <tr style=\"text-align: right;\">\n",
       "      <th></th>\n",
       "      <th>file</th>\n",
       "      <th>gender</th>\n",
       "      <th>gender_class</th>\n",
       "    </tr>\n",
       "  </thead>\n",
       "  <tbody>\n",
       "    <tr>\n",
       "      <th>0</th>\n",
       "      <td>/content/Final_folder_gender/Men/1.jpg</td>\n",
       "      <td>M</td>\n",
       "      <td>0</td>\n",
       "    </tr>\n",
       "    <tr>\n",
       "      <th>1</th>\n",
       "      <td>/content/Final_folder_gender/Men/10.jpg</td>\n",
       "      <td>M</td>\n",
       "      <td>0</td>\n",
       "    </tr>\n",
       "    <tr>\n",
       "      <th>2</th>\n",
       "      <td>/content/Final_folder_gender/Men/1000.jpg</td>\n",
       "      <td>M</td>\n",
       "      <td>0</td>\n",
       "    </tr>\n",
       "    <tr>\n",
       "      <th>3</th>\n",
       "      <td>/content/Final_folder_gender/Men/10002.jpg</td>\n",
       "      <td>M</td>\n",
       "      <td>0</td>\n",
       "    </tr>\n",
       "    <tr>\n",
       "      <th>4</th>\n",
       "      <td>/content/Final_folder_gender/Men/10003.jpg</td>\n",
       "      <td>M</td>\n",
       "      <td>0</td>\n",
       "    </tr>\n",
       "  </tbody>\n",
       "</table>\n",
       "</div>"
      ],
      "text/plain": [
       "                                         file gender  gender_class\n",
       "0      /content/Final_folder_gender/Men/1.jpg      M             0\n",
       "1     /content/Final_folder_gender/Men/10.jpg      M             0\n",
       "2   /content/Final_folder_gender/Men/1000.jpg      M             0\n",
       "3  /content/Final_folder_gender/Men/10002.jpg      M             0\n",
       "4  /content/Final_folder_gender/Men/10003.jpg      M             0"
      ]
     },
     "execution_count": 9,
     "metadata": {},
     "output_type": "execute_result"
    }
   ],
   "source": [
    "male_images=os.listdir(\"C:/Users/shahr/Downloads/Compressed/Final_folder_gender/Men\")\n",
    "male_df=pd.DataFrame()\n",
    "male_df[\"file\"]=male_images\n",
    "male_df[\"gender\"]=\"M\"\n",
    "male_df[\"gender_class\"]=0\n",
    "# image path is added to the filename\n",
    "male_df[\"file\"]=male_df[\"file\"].map(lambda x: \"/content/Final_folder_gender/Men/\"+x)\n",
    "male_df.head()"
   ]
  },
  {
   "cell_type": "code",
   "execution_count": 10,
   "metadata": {},
   "outputs": [],
   "source": [
    "male_df=shuffle(male_df,random_state=42).reset_index(drop=True)"
   ]
  },
  {
   "cell_type": "code",
   "execution_count": 11,
   "metadata": {},
   "outputs": [
    {
     "data": {
      "text/html": [
       "<div>\n",
       "<style scoped>\n",
       "    .dataframe tbody tr th:only-of-type {\n",
       "        vertical-align: middle;\n",
       "    }\n",
       "\n",
       "    .dataframe tbody tr th {\n",
       "        vertical-align: top;\n",
       "    }\n",
       "\n",
       "    .dataframe thead th {\n",
       "        text-align: right;\n",
       "    }\n",
       "</style>\n",
       "<table border=\"1\" class=\"dataframe\">\n",
       "  <thead>\n",
       "    <tr style=\"text-align: right;\">\n",
       "      <th></th>\n",
       "      <th>file</th>\n",
       "      <th>gender</th>\n",
       "      <th>gender_class</th>\n",
       "    </tr>\n",
       "  </thead>\n",
       "  <tbody>\n",
       "    <tr>\n",
       "      <th>0</th>\n",
       "      <td>/content/Final_folder_gender/Women/100.jpg</td>\n",
       "      <td>F</td>\n",
       "      <td>1</td>\n",
       "    </tr>\n",
       "    <tr>\n",
       "      <th>1</th>\n",
       "      <td>/content/Final_folder_gender/Women/10001.jpg</td>\n",
       "      <td>F</td>\n",
       "      <td>1</td>\n",
       "    </tr>\n",
       "    <tr>\n",
       "      <th>2</th>\n",
       "      <td>/content/Final_folder_gender/Women/10008.jpg</td>\n",
       "      <td>F</td>\n",
       "      <td>1</td>\n",
       "    </tr>\n",
       "    <tr>\n",
       "      <th>3</th>\n",
       "      <td>/content/Final_folder_gender/Women/10009.jpg</td>\n",
       "      <td>F</td>\n",
       "      <td>1</td>\n",
       "    </tr>\n",
       "    <tr>\n",
       "      <th>4</th>\n",
       "      <td>/content/Final_folder_gender/Women/10013.jpg</td>\n",
       "      <td>F</td>\n",
       "      <td>1</td>\n",
       "    </tr>\n",
       "  </tbody>\n",
       "</table>\n",
       "</div>"
      ],
      "text/plain": [
       "                                           file gender  gender_class\n",
       "0    /content/Final_folder_gender/Women/100.jpg      F             1\n",
       "1  /content/Final_folder_gender/Women/10001.jpg      F             1\n",
       "2  /content/Final_folder_gender/Women/10008.jpg      F             1\n",
       "3  /content/Final_folder_gender/Women/10009.jpg      F             1\n",
       "4  /content/Final_folder_gender/Women/10013.jpg      F             1"
      ]
     },
     "execution_count": 11,
     "metadata": {},
     "output_type": "execute_result"
    }
   ],
   "source": [
    "female_images=os.listdir(\"C:/Users/shahr/Downloads/Compressed/Final_folder_gender/Women/\")\n",
    "female_df=pd.DataFrame()\n",
    "female_df[\"file\"]=female_images\n",
    "female_df[\"gender\"]=\"F\"\n",
    "female_df[\"gender_class\"]=1\n",
    "# image path is added to the filename\n",
    "female_df[\"file\"]=female_df[\"file\"].map(lambda x: \"/content/Final_folder_gender/Women/\"+x)\n",
    "female_df.head()"
   ]
  },
  {
   "cell_type": "code",
   "execution_count": 12,
   "metadata": {},
   "outputs": [],
   "source": [
    "female_df=shuffle(female_df,random_state=42).reset_index(drop=True)"
   ]
  },
  {
   "cell_type": "code",
   "execution_count": 13,
   "metadata": {},
   "outputs": [
    {
     "name": "stdout",
     "output_type": "stream",
     "text": [
      "(56262, 3)\n",
      "(52193, 3)\n"
     ]
    }
   ],
   "source": [
    "print(male_df.shape)\n",
    "print(female_df.shape)"
   ]
  },
  {
   "attachments": {},
   "cell_type": "markdown",
   "metadata": {},
   "source": [
    "## Create balanced dataset by ensuring equal number of male and female images"
   ]
  },
  {
   "cell_type": "code",
   "execution_count": 14,
   "metadata": {},
   "outputs": [],
   "source": [
    "male_df=male_df.sample(n=female_df.shape[0],random_state=42)"
   ]
  },
  {
   "cell_type": "code",
   "execution_count": 15,
   "metadata": {},
   "outputs": [
    {
     "data": {
      "text/plain": [
       "(52193, 3)"
      ]
     },
     "execution_count": 15,
     "metadata": {},
     "output_type": "execute_result"
    }
   ],
   "source": [
    "male_df.shape"
   ]
  },
  {
   "cell_type": "code",
   "execution_count": 16,
   "metadata": {},
   "outputs": [
    {
     "name": "stdout",
     "output_type": "stream",
     "text": [
      "(104386, 3)\n"
     ]
    },
    {
     "data": {
      "text/html": [
       "<div>\n",
       "<style scoped>\n",
       "    .dataframe tbody tr th:only-of-type {\n",
       "        vertical-align: middle;\n",
       "    }\n",
       "\n",
       "    .dataframe tbody tr th {\n",
       "        vertical-align: top;\n",
       "    }\n",
       "\n",
       "    .dataframe thead th {\n",
       "        text-align: right;\n",
       "    }\n",
       "</style>\n",
       "<table border=\"1\" class=\"dataframe\">\n",
       "  <thead>\n",
       "    <tr style=\"text-align: right;\">\n",
       "      <th></th>\n",
       "      <th>file</th>\n",
       "      <th>gender</th>\n",
       "      <th>gender_class</th>\n",
       "    </tr>\n",
       "  </thead>\n",
       "  <tbody>\n",
       "    <tr>\n",
       "      <th>0</th>\n",
       "      <td>/content/Final_folder_gender/Women/54512.jpg</td>\n",
       "      <td>F</td>\n",
       "      <td>1</td>\n",
       "    </tr>\n",
       "    <tr>\n",
       "      <th>1</th>\n",
       "      <td>/content/Final_folder_gender/Men/28571.jpg</td>\n",
       "      <td>M</td>\n",
       "      <td>0</td>\n",
       "    </tr>\n",
       "    <tr>\n",
       "      <th>2</th>\n",
       "      <td>/content/Final_folder_gender/Men/25747.jpg</td>\n",
       "      <td>M</td>\n",
       "      <td>0</td>\n",
       "    </tr>\n",
       "    <tr>\n",
       "      <th>3</th>\n",
       "      <td>/content/Final_folder_gender/Women/35642.jpg</td>\n",
       "      <td>F</td>\n",
       "      <td>1</td>\n",
       "    </tr>\n",
       "    <tr>\n",
       "      <th>4</th>\n",
       "      <td>/content/Final_folder_gender/Women/17038.jpg</td>\n",
       "      <td>F</td>\n",
       "      <td>1</td>\n",
       "    </tr>\n",
       "    <tr>\n",
       "      <th>5</th>\n",
       "      <td>/content/Final_folder_gender/Men/58_0_1_201701...</td>\n",
       "      <td>M</td>\n",
       "      <td>0</td>\n",
       "    </tr>\n",
       "    <tr>\n",
       "      <th>6</th>\n",
       "      <td>/content/Final_folder_gender/Women/55085.jpg</td>\n",
       "      <td>F</td>\n",
       "      <td>1</td>\n",
       "    </tr>\n",
       "    <tr>\n",
       "      <th>7</th>\n",
       "      <td>/content/Final_folder_gender/Men/11181.jpg</td>\n",
       "      <td>M</td>\n",
       "      <td>0</td>\n",
       "    </tr>\n",
       "    <tr>\n",
       "      <th>8</th>\n",
       "      <td>/content/Final_folder_gender/Men/76848.jpg</td>\n",
       "      <td>M</td>\n",
       "      <td>0</td>\n",
       "    </tr>\n",
       "    <tr>\n",
       "      <th>9</th>\n",
       "      <td>/content/Final_folder_gender/Men/82144.jpg</td>\n",
       "      <td>M</td>\n",
       "      <td>0</td>\n",
       "    </tr>\n",
       "  </tbody>\n",
       "</table>\n",
       "</div>"
      ],
      "text/plain": [
       "                                                file gender  gender_class\n",
       "0       /content/Final_folder_gender/Women/54512.jpg      F             1\n",
       "1         /content/Final_folder_gender/Men/28571.jpg      M             0\n",
       "2         /content/Final_folder_gender/Men/25747.jpg      M             0\n",
       "3       /content/Final_folder_gender/Women/35642.jpg      F             1\n",
       "4       /content/Final_folder_gender/Women/17038.jpg      F             1\n",
       "5  /content/Final_folder_gender/Men/58_0_1_201701...      M             0\n",
       "6       /content/Final_folder_gender/Women/55085.jpg      F             1\n",
       "7         /content/Final_folder_gender/Men/11181.jpg      M             0\n",
       "8         /content/Final_folder_gender/Men/76848.jpg      M             0\n",
       "9         /content/Final_folder_gender/Men/82144.jpg      M             0"
      ]
     },
     "execution_count": 16,
     "metadata": {},
     "output_type": "execute_result"
    }
   ],
   "source": [
    "main_df=pd.concat([male_df,female_df])\n",
    "main_df=shuffle(main_df,random_state=42).reset_index(drop=True)\n",
    "\n",
    "print(main_df.shape)\n",
    "main_df.head(10)\n"
   ]
  },
  {
   "cell_type": "code",
   "execution_count": 17,
   "metadata": {},
   "outputs": [],
   "source": [
    "x=main_df[[\"file\",\"gender\"]]\n",
    "y=main_df[\"gender_class\"]"
   ]
  },
  {
   "attachments": {},
   "cell_type": "markdown",
   "metadata": {},
   "source": [
    "# Divide train and validation data"
   ]
  },
  {
   "cell_type": "code",
   "execution_count": 18,
   "metadata": {},
   "outputs": [],
   "source": [
    "# Splitting the dataset into training and testing datasets with test_size=0.3 and stratify=y. \n",
    "\n",
    "X_train, X_test, y_train, y_test = train_test_split(x, y, test_size=0.3, stratify=y, random_state=42)"
   ]
  },
  {
   "cell_type": "code",
   "execution_count": 19,
   "metadata": {},
   "outputs": [],
   "source": [
    "temp_train = X_train.copy()\n",
    "temp_train['gender_class'] = y_train\n",
    "\n",
    "temp_test = X_test.copy()\n",
    "temp_test['gender_class'] = y_test"
   ]
  },
  {
   "cell_type": "code",
   "execution_count": 20,
   "metadata": {},
   "outputs": [
    {
     "data": {
      "text/plain": [
       "M    36535\n",
       "F    36535\n",
       "Name: gender, dtype: int64"
      ]
     },
     "execution_count": 20,
     "metadata": {},
     "output_type": "execute_result"
    }
   ],
   "source": [
    "temp_train[\"gender\"].value_counts()"
   ]
  },
  {
   "cell_type": "code",
   "execution_count": 21,
   "metadata": {},
   "outputs": [
    {
     "data": {
      "text/html": [
       "<div>\n",
       "<style scoped>\n",
       "    .dataframe tbody tr th:only-of-type {\n",
       "        vertical-align: middle;\n",
       "    }\n",
       "\n",
       "    .dataframe tbody tr th {\n",
       "        vertical-align: top;\n",
       "    }\n",
       "\n",
       "    .dataframe thead th {\n",
       "        text-align: right;\n",
       "    }\n",
       "</style>\n",
       "<table border=\"1\" class=\"dataframe\">\n",
       "  <thead>\n",
       "    <tr style=\"text-align: right;\">\n",
       "      <th></th>\n",
       "      <th>file</th>\n",
       "      <th>gender</th>\n",
       "      <th>gender_class</th>\n",
       "    </tr>\n",
       "  </thead>\n",
       "  <tbody>\n",
       "    <tr>\n",
       "      <th>90141</th>\n",
       "      <td>/content/Final_folder_gender/Men/13054.jpg</td>\n",
       "      <td>M</td>\n",
       "      <td>0</td>\n",
       "    </tr>\n",
       "    <tr>\n",
       "      <th>15971</th>\n",
       "      <td>/content/Final_folder_gender/Women/85053.jpg</td>\n",
       "      <td>F</td>\n",
       "      <td>1</td>\n",
       "    </tr>\n",
       "    <tr>\n",
       "      <th>96870</th>\n",
       "      <td>/content/Final_folder_gender/Women/13285.jpg</td>\n",
       "      <td>F</td>\n",
       "      <td>1</td>\n",
       "    </tr>\n",
       "    <tr>\n",
       "      <th>45515</th>\n",
       "      <td>/content/Final_folder_gender/Women/42733.jpg</td>\n",
       "      <td>F</td>\n",
       "      <td>1</td>\n",
       "    </tr>\n",
       "    <tr>\n",
       "      <th>75297</th>\n",
       "      <td>/content/Final_folder_gender/Men/78390.jpg</td>\n",
       "      <td>M</td>\n",
       "      <td>0</td>\n",
       "    </tr>\n",
       "  </tbody>\n",
       "</table>\n",
       "</div>"
      ],
      "text/plain": [
       "                                               file gender  gender_class\n",
       "90141    /content/Final_folder_gender/Men/13054.jpg      M             0\n",
       "15971  /content/Final_folder_gender/Women/85053.jpg      F             1\n",
       "96870  /content/Final_folder_gender/Women/13285.jpg      F             1\n",
       "45515  /content/Final_folder_gender/Women/42733.jpg      F             1\n",
       "75297    /content/Final_folder_gender/Men/78390.jpg      M             0"
      ]
     },
     "execution_count": 21,
     "metadata": {},
     "output_type": "execute_result"
    }
   ],
   "source": [
    "temp_train.head()"
   ]
  },
  {
   "cell_type": "code",
   "execution_count": 26,
   "metadata": {},
   "outputs": [],
   "source": [
    "temp_train.to_csv(\"images_filenames_labels_train_gender_new.csv\", index=False)\n",
    "temp_test.to_csv(\"images_filenames_labels_test_gender_new.csv\", index=False)"
   ]
  },
  {
   "cell_type": "code",
   "execution_count": 27,
   "metadata": {},
   "outputs": [
    {
     "data": {
      "text/plain": [
       "M    36535\n",
       "F    36535\n",
       "Name: gender, dtype: int64"
      ]
     },
     "execution_count": 27,
     "metadata": {},
     "output_type": "execute_result"
    }
   ],
   "source": [
    "temp_train[\"gender\"].value_counts()"
   ]
  },
  {
   "cell_type": "code",
   "execution_count": 28,
   "metadata": {},
   "outputs": [
    {
     "data": {
      "text/plain": [
       "M    15658\n",
       "F    15658\n",
       "Name: gender, dtype: int64"
      ]
     },
     "execution_count": 28,
     "metadata": {},
     "output_type": "execute_result"
    }
   ],
   "source": [
    "temp_test[\"gender\"].value_counts()"
   ]
  },
  {
   "cell_type": "code",
   "execution_count": 29,
   "metadata": {},
   "outputs": [
    {
     "data": {
      "text/plain": [
       "(31316, 3)"
      ]
     },
     "execution_count": 29,
     "metadata": {},
     "output_type": "execute_result"
    }
   ],
   "source": [
    "temp_test.shape"
   ]
  }
 ],
 "metadata": {
  "kernelspec": {
   "display_name": "Python 3",
   "language": "python",
   "name": "python3"
  },
  "language_info": {
   "codemirror_mode": {
    "name": "ipython",
    "version": 3
   },
   "file_extension": ".py",
   "mimetype": "text/x-python",
   "name": "python",
   "nbconvert_exporter": "python",
   "pygments_lexer": "ipython3",
   "version": "3.8.0"
  },
  "orig_nbformat": 4
 },
 "nbformat": 4,
 "nbformat_minor": 2
}
